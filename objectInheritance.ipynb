{
 "cells": [
  {
   "cell_type": "markdown",
   "metadata": {},
   "source": [
    "Objects can \"inherit\" from other objects, meaning they take on all of another objects properties and methods. The inheriting object is typically called the child object, and it inherents from the parent object. Inheritance is primarily useful in preventing redundant code, which makes things more maintainable and easier to test."
   ]
  },
  {
   "cell_type": "markdown",
   "metadata": {},
   "source": [
    "# Example"
   ]
  },
  {
   "cell_type": "code",
   "execution_count": 28,
   "metadata": {},
   "outputs": [],
   "source": [
    "class Person():\n",
    "    def __init__(self, firstname, lastname):\n",
    "        self.fname = firstname\n",
    "        self.lname = lastname\n",
    "        \n",
    "    def getFullName(self):\n",
    "        fullname = f'{self.fname} {self.lname}'\n",
    "        self.fullname=fullname\n",
    "        return fullname"
   ]
  },
  {
   "cell_type": "code",
   "execution_count": 29,
   "metadata": {},
   "outputs": [],
   "source": [
    "import numpy as np\n",
    "class Student(Person):\n",
    "    def __init__(self, firstname, lastname, grades):\n",
    "        super().__init__(firstname,lastname)\n",
    "        self.grades = grades\n",
    "        \n",
    "    def getGPA(self):\n",
    "        gpa = np.mean(self.grades)\n",
    "        self.gpa = gpa\n",
    "        return gpa"
   ]
  },
  {
   "cell_type": "code",
   "execution_count": 32,
   "metadata": {},
   "outputs": [
    {
     "ename": "TypeError",
     "evalue": "__init__() missing 1 required positional argument: 'lastname'",
     "output_type": "error",
     "traceback": [
      "\u001b[0;31m---------------------------------------------------------------------------\u001b[0m",
      "\u001b[0;31mTypeError\u001b[0m                                 Traceback (most recent call last)",
      "\u001b[0;32m<ipython-input-32-d445aff96e25>\u001b[0m in \u001b[0;36m<module>\u001b[0;34m\u001b[0m\n\u001b[0;32m----> 1\u001b[0;31m \u001b[0mdara\u001b[0m \u001b[0;34m=\u001b[0m \u001b[0mPerson\u001b[0m\u001b[0;34m(\u001b[0m\u001b[0;34m'dara'\u001b[0m\u001b[0;34m)\u001b[0m\u001b[0;34m\u001b[0m\u001b[0;34m\u001b[0m\u001b[0m\n\u001b[0m\u001b[1;32m      2\u001b[0m \u001b[0mdara\u001b[0m\u001b[0;34m.\u001b[0m\u001b[0mgetFullName\u001b[0m\u001b[0;34m(\u001b[0m\u001b[0;34m)\u001b[0m\u001b[0;34m\u001b[0m\u001b[0;34m\u001b[0m\u001b[0m\n",
      "\u001b[0;31mTypeError\u001b[0m: __init__() missing 1 required positional argument: 'lastname'"
     ]
    }
   ],
   "source": [
    "dara = Person('dara')\n",
    "dara.getFullName()"
   ]
  },
  {
   "cell_type": "code",
   "execution_count": 14,
   "metadata": {},
   "outputs": [
    {
     "name": "stdout",
     "output_type": "stream",
     "text": [
      "3.933333333333333\n",
      "elliott chalcraft\n"
     ]
    }
   ],
   "source": [
    "elliott = Student('elliott','chalcraft',[3.8,3.9,4.1])\n",
    "print(elliott.getGPA())\n",
    "print(elliott.getFullName())"
   ]
  },
  {
   "cell_type": "markdown",
   "metadata": {},
   "source": [
    "# Task\n",
    "\n",
    "Create a parent class Shape() with the following attributes and methods:\n",
    "- Attributes:\n",
    " - Area\n",
    " - Perimeter\n",
    " - Edge color\n",
    " - Face color\n",
    " - History: A dictionary tracking all changes made to the shape. The changes should be organized by the parameter that was changed in a way that makes the getHistory function easiest to implement.\n",
    "\n",
    "- Methods:\n",
    " - getHistory(attribute): returns the history of the provided attribute, showing the timestamp and new value of every change.\n",
    " \n",
    "Next, create a child class Circle() that inherets from Shape(). Your Circle class should add the following attributes and methods:\n",
    "- Attributes:\n",
    " - Radius\n",
    " - Circumference (this will be the same as perimeter)\n",
    "\n",
    "- Methods:\n",
    " - calcRadius(self): calculates and returns the radius of the circle, and updates the radius parameter\n",
    " - calcCircumference(self): calculates and returns the circumference of the circle, and updates the circumference parameter\n",
    " - calcArea(self): calculates and returns the area of the circle, and updates the area parameter\n",
    " - expand(self, parameter, factor): Takes any parameter and multiplies it by factor. Updates that parameter, and appropriately scales any other parameters that are not None."
   ]
  },
  {
   "cell_type": "markdown",
   "metadata": {},
   "source": [
    "- take out everything with history in the circle class\n",
    "- fix docstrings"
   ]
  },
  {
   "cell_type": "code",
   "execution_count": 1,
   "metadata": {},
   "outputs": [
    {
     "ename": "TypeError",
     "evalue": "__init__() missing 5 required positional arguments: 'edgeColor', 'faceColor', 'area', 'perimeter', and 'history'",
     "output_type": "error",
     "traceback": [
      "\u001b[0;31m---------------------------------------------------------------------------\u001b[0m",
      "\u001b[0;31mTypeError\u001b[0m                                 Traceback (most recent call last)",
      "\u001b[0;32m<ipython-input-1-017106750d73>\u001b[0m in \u001b[0;36m<module>\u001b[0;34m\u001b[0m\n\u001b[1;32m    116\u001b[0m             \u001b[0;32mraise\u001b[0m \u001b[0mTypeError\u001b[0m\u001b[0;34m(\u001b[0m\u001b[0;34m'Enter radius (r), circumference (c), or area (a) for the parameter to expand.'\u001b[0m\u001b[0;34m)\u001b[0m\u001b[0;34m\u001b[0m\u001b[0;34m\u001b[0m\u001b[0m\n\u001b[1;32m    117\u001b[0m \u001b[0;34m\u001b[0m\u001b[0m\n\u001b[0;32m--> 118\u001b[0;31m \u001b[0mc\u001b[0m \u001b[0;34m=\u001b[0m \u001b[0mCircle\u001b[0m\u001b[0;34m(\u001b[0m\u001b[0mradius\u001b[0m\u001b[0;34m=\u001b[0m\u001b[0;36m1\u001b[0m\u001b[0;34m)\u001b[0m\u001b[0;34m\u001b[0m\u001b[0;34m\u001b[0m\u001b[0m\n\u001b[0m\u001b[1;32m    119\u001b[0m \u001b[0mc\u001b[0m\u001b[0;34m.\u001b[0m\u001b[0mcalcRadius\u001b[0m\u001b[0;34m(\u001b[0m\u001b[0;34m)\u001b[0m\u001b[0;34m\u001b[0m\u001b[0;34m\u001b[0m\u001b[0m\n\u001b[1;32m    120\u001b[0m \u001b[0mprint\u001b[0m\u001b[0;34m(\u001b[0m\u001b[0mc\u001b[0m\u001b[0;34m.\u001b[0m\u001b[0mperimeter\u001b[0m\u001b[0;34m)\u001b[0m\u001b[0;34m\u001b[0m\u001b[0;34m\u001b[0m\u001b[0m\n",
      "\u001b[0;31mTypeError\u001b[0m: __init__() missing 5 required positional arguments: 'edgeColor', 'faceColor', 'area', 'perimeter', and 'history'"
     ]
    }
   ],
   "source": [
    "import math\n",
    "import warnings\n",
    "import numpy as np\n",
    "from datetime import datetime\n",
    "\n",
    "def getTime():\n",
    "    now = datetime.now()\n",
    "    current_time = now.strftime(\"%H:%M:%S:%f\")\n",
    "    return current_time\n",
    "\n",
    "class Shape():\n",
    "    def __init__(self, edgeColor=None, faceColor=None, area=None, perimeter=None, history = {}):\n",
    "        self.area = area\n",
    "        self.perimeter = perimeter\n",
    "        self.edgeColor = edgeColor\n",
    "        self.faceColor = faceColor\n",
    "        self.history = history\n",
    "    def getHistory(self):\n",
    "        print('yeet')\n",
    "\n",
    "class Circle(Shape):\n",
    "    \"\"\"\n",
    "    Function to create and edit a circle while calculating parameters and keeping track of previous changes to the circle.\n",
    "    \n",
    "    Attributes:\n",
    "    ----------\n",
    "    radius: Float\n",
    "        Radius of the circle. Default is None.\n",
    "    circum: Float\n",
    "        Circumference of the circle. Default is None.\n",
    "    area: Float\n",
    "        Area of the circle. Default is None.\n",
    "    history: Dict\n",
    "        Dictionary tracking all chnages made to the size of the circle. Keys are the time the change was made and values are the new size (radius, circumference, area). Default is None.\n",
    "        \n",
    "    Methods:\n",
    "    ----------\n",
    "    calcCircle: Float\n",
    "        Calculates and returns the radius, circumference, and area. Updates all three parameters.\n",
    "    calcRadius: Float\n",
    "        Calculates and returns the radius of the circle, and updates the radius parameter.\n",
    "    calcCircum: Float\n",
    "        Calculates and returns the circumference of the circle, and updates the circumference parameter.\n",
    "    calcArea: Float\n",
    "        Calculates and returns the area of the circle, and updates the area parameter.\n",
    "    \"\"\"\n",
    "    def __init__(self, edgeColor=None, faceColor=None, area=None, perimeter=None, history = {}, radius = None, circum = None):\n",
    "        super().__init__(edgeColor, faceColor, area, perimeter, history)\n",
    "        self.radius = radius\n",
    "        self.circum = perimeter\n",
    "        #self.area = area\n",
    "        #self.history = history\n",
    "        self.checkParams()\n",
    "        self.calcCircle()\n",
    "    def calcCircle(self):\n",
    "        if self.radius != None:\n",
    "            self.circum = 2*math.pi*self.radius\n",
    "            self.area = math.pi*(self.radius**2)\n",
    "        elif self.circum != None:\n",
    "            self.radius = self.circum/(2*math.pi)\n",
    "            self.area = math.pi*(self.radius**2)\n",
    "        elif self.area != None:\n",
    "            self.radius = math.sqrt(self.area/math.pi)\n",
    "            self.circum = 2*math.pi*self.radius\n",
    "        else:\n",
    "            raise TypeError('All of the parameters are None.')\n",
    "    def checkParams(self):\n",
    "        params = np.asarray([self.radius, self.circum, self.area])\n",
    "        params[params == None] = 0\n",
    "        #print(params)\n",
    "        numSet = sum(x != 0 for x in params)  \n",
    "        if numSet > 1:\n",
    "            if params[1] != params[0]*2*math.pi and params[0] != 0 and params[1] != 0:\n",
    "                warnings.warn('The radius and circumference conflict. Calculating the parameters based on the the radius.')\n",
    "            if params[2] != params[0]**2*math.pi and params[0] != 0 and params[2] != 0:\n",
    "                warnings.warn('The radius and area conflict. Calculating the parameters based on the radius.')\n",
    "            if params[1] != 0 and params[2] != 0 and params[0] == 0:\n",
    "                radTemp = params[1]/(2*math.pi)\n",
    "                areaTemp = radTemp**2*math.pi\n",
    "                if params[2] != areaTemp:\n",
    "                    warnings.warn('The circumference and area conflict. Calculating the paramters based on the circumference.')\n",
    "    def calcRadius(self):\n",
    "        self.calcCircle()\n",
    "        return self.radius\n",
    "    def calcCircum(self):\n",
    "        self.calcCircle()\n",
    "        return self.circum\n",
    "    def calcArea(self):\n",
    "        self.calcCircle()\n",
    "        return self.area\n",
    "    \n",
    "    def expand(self, parameter, factor):\n",
    "        try:\n",
    "            factor = float(factor)\n",
    "        except:\n",
    "            raise TypeError('Enter a number for the factor.')\n",
    "        if factor < 0:\n",
    "            factor *= -1\n",
    "            warnings.warn(f'The entered factor was negative. Calculating based on the additive inverse, {factor}.')\n",
    "        if parameter == \"r\" or parameter == \"c\" or parameter == \"a\":\n",
    "            if parameter == \"r\":\n",
    "                self.radius *= factor\n",
    "                self.circum = None\n",
    "                self.area = None\n",
    "            elif parameter == \"c\":\n",
    "                self.radius = None\n",
    "                self.circum *= factor\n",
    "                self.area = None\n",
    "            elif parameter == \"a\":\n",
    "                self.radius = None\n",
    "                self.circum = None\n",
    "                self.area *= factor\n",
    "            self.calcCircle()\n",
    "            self.history[getTime()] = [self.radius, self.circum, self.area]\n",
    "        else:\n",
    "            raise TypeError('Enter radius (r), circumference (c), or area (a) for the parameter to expand.')\n",
    "\n",
    "c = Circle(radius=1)\n",
    "c.calcRadius()\n",
    "print(c.perimeter)"
   ]
  },
  {
   "cell_type": "code",
   "execution_count": null,
   "metadata": {},
   "outputs": [],
   "source": []
  },
  {
   "cell_type": "code",
   "execution_count": null,
   "metadata": {},
   "outputs": [],
   "source": []
  }
 ],
 "metadata": {
  "kernelspec": {
   "display_name": "Python 3",
   "language": "python",
   "name": "python3"
  },
  "language_info": {
   "codemirror_mode": {
    "name": "ipython",
    "version": 3
   },
   "file_extension": ".py",
   "mimetype": "text/x-python",
   "name": "python",
   "nbconvert_exporter": "python",
   "pygments_lexer": "ipython3",
   "version": "3.7.4"
  }
 },
 "nbformat": 4,
 "nbformat_minor": 5
}
