{
 "cells": [
  {
   "cell_type": "markdown",
   "id": "647c3c6e",
   "metadata": {},
   "source": [
    "Objects can \"inherit\" from other objects, meaning they take on all of another objects properties and methods. The inheriting object is typically called the child object, and it inherents from the parent object. Inheritance is primarily useful in preventing redundant code, which makes things more maintainable and easier to test."
   ]
  },
  {
   "cell_type": "markdown",
   "id": "8c9569dc",
   "metadata": {},
   "source": [
    "# Example"
   ]
  },
  {
   "cell_type": "code",
   "execution_count": null,
   "id": "784a5d4b",
   "metadata": {},
   "outputs": [],
   "source": [
    "class Person():\n",
    "    def __init__(self, firstname, lastname):\n",
    "        self.fname = firstname\n",
    "        self.lname = lastname\n",
    "        \n",
    "    def getFullName(self):\n",
    "        fullname = f'{self.fname} {self.lname}'\n",
    "        self.fullname=fullname\n",
    "        return fullname"
   ]
  },
  {
   "cell_type": "code",
   "execution_count": null,
   "id": "4a70c48e",
   "metadata": {},
   "outputs": [],
   "source": [
    "import numpy as np\n",
    "class Student(Person):\n",
    "    def __init__(self, firstname, lastname, grades):\n",
    "        super().__init__(firstname,lastname)\n",
    "        self.grades = grades\n",
    "        \n",
    "    def getGPA(self):\n",
    "        gpa = np.mean(self.grades)\n",
    "        self.gpa = gpa\n",
    "        return gpa"
   ]
  },
  {
   "cell_type": "code",
   "execution_count": null,
   "id": "3306c5ae",
   "metadata": {},
   "outputs": [],
   "source": [
    "dara = Person('dara','storer')\n",
    "dara.getFullName()"
   ]
  },
  {
   "cell_type": "code",
   "execution_count": null,
   "id": "18087f56",
   "metadata": {},
   "outputs": [],
   "source": [
    "elliott = Student('elliott','chalcraft',[3.8,3.9,4.1])\n",
    "print(elliott.getGPA())\n",
    "print(elliott.getFullName())"
   ]
  },
  {
   "cell_type": "markdown",
   "id": "2fefe073",
   "metadata": {},
   "source": [
    "# Task\n",
    "\n",
    "Create a parent class Shape() with the following attributes and methods:\n",
    "- Attributes:\n",
    " - Area\n",
    " - Perimeter\n",
    " - Edge color\n",
    " - Face color\n",
    " - History: A dictionary tracking all changes made to the shape. The changes should be organized by the parameter that was changed in a way that makes the getHistory function easiest to implement.\n",
    "\n",
    "- Methods:\n",
    " - getHistory(attribute): returns the history of the provided attribute, showing the timestamp and new value of every change.\n",
    " \n",
    "Next, create a child class Circle() that inherets from Shape(). Your Circle class should add the following attributes and methods:\n",
    "- Attributes:\n",
    " - Radius\n",
    " - Circumference (this will be the same as perimeter)\n",
    "\n",
    "- Methods:\n",
    " - calcRadius(self): calculates and returns the radius of the circle, and updates the radius parameter\n",
    " - calcCircumference(self): calculates and returns the circumference of the circle, and updates the circumference parameter\n",
    " - calcArea(self): calculates and returns the area of the circle, and updates the area parameter\n",
    " - expand(self, parameter, factor): Takes any parameter and multiplies it by factor. Updates that parameter, and appropriately scales any other parameters that are not None."
   ]
  },
  {
   "cell_type": "code",
   "execution_count": null,
   "id": "2474f01b",
   "metadata": {},
   "outputs": [],
   "source": []
  }
 ],
 "metadata": {
  "kernelspec": {
   "display_name": "Python 3",
   "language": "python",
   "name": "python3"
  },
  "language_info": {
   "codemirror_mode": {
    "name": "ipython",
    "version": 3
   },
   "file_extension": ".py",
   "mimetype": "text/x-python",
   "name": "python",
   "nbconvert_exporter": "python",
   "pygments_lexer": "ipython3",
   "version": "3.8.10"
  }
 },
 "nbformat": 4,
 "nbformat_minor": 5
}
