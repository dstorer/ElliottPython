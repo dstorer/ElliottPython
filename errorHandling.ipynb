{
 "cells": [
  {
   "cell_type": "markdown",
   "metadata": {},
   "source": [
    "# Example - Safe Divide"
   ]
  },
  {
   "cell_type": "code",
   "execution_count": 1,
   "metadata": {},
   "outputs": [],
   "source": [
    "def divide(x,y):\n",
    "    return x/y"
   ]
  },
  {
   "cell_type": "code",
   "execution_count": 2,
   "metadata": {},
   "outputs": [
    {
     "data": {
      "text/plain": [
       "2.0"
      ]
     },
     "execution_count": 2,
     "metadata": {},
     "output_type": "execute_result"
    }
   ],
   "source": [
    "divide(4,2)"
   ]
  },
  {
   "cell_type": "code",
   "execution_count": 3,
   "metadata": {},
   "outputs": [
    {
     "ename": "ZeroDivisionError",
     "evalue": "division by zero",
     "output_type": "error",
     "traceback": [
      "\u001b[0;31m---------------------------------------------------------------------------\u001b[0m",
      "\u001b[0;31mZeroDivisionError\u001b[0m                         Traceback (most recent call last)",
      "\u001b[0;32m<ipython-input-3-53cc7749f336>\u001b[0m in \u001b[0;36m<module>\u001b[0;34m\u001b[0m\n\u001b[0;32m----> 1\u001b[0;31m \u001b[0mdivide\u001b[0m\u001b[0;34m(\u001b[0m\u001b[0;36m4\u001b[0m\u001b[0;34m,\u001b[0m\u001b[0;36m0\u001b[0m\u001b[0;34m)\u001b[0m\u001b[0;34m\u001b[0m\u001b[0;34m\u001b[0m\u001b[0m\n\u001b[0m",
      "\u001b[0;32m<ipython-input-1-cde09cc5b8ef>\u001b[0m in \u001b[0;36mdivide\u001b[0;34m(x, y)\u001b[0m\n\u001b[1;32m      1\u001b[0m \u001b[0;32mdef\u001b[0m \u001b[0mdivide\u001b[0m\u001b[0;34m(\u001b[0m\u001b[0mx\u001b[0m\u001b[0;34m,\u001b[0m\u001b[0my\u001b[0m\u001b[0;34m)\u001b[0m\u001b[0;34m:\u001b[0m\u001b[0;34m\u001b[0m\u001b[0;34m\u001b[0m\u001b[0m\n\u001b[0;32m----> 2\u001b[0;31m     \u001b[0;32mreturn\u001b[0m \u001b[0mx\u001b[0m\u001b[0;34m/\u001b[0m\u001b[0my\u001b[0m\u001b[0;34m\u001b[0m\u001b[0;34m\u001b[0m\u001b[0m\n\u001b[0m",
      "\u001b[0;31mZeroDivisionError\u001b[0m: division by zero"
     ]
    }
   ],
   "source": [
    "divide(4,0)"
   ]
  },
  {
   "cell_type": "markdown",
   "metadata": {},
   "source": [
    "Let's try and handle bad user inputs:"
   ]
  },
  {
   "cell_type": "code",
   "execution_count": 4,
   "metadata": {},
   "outputs": [],
   "source": [
    "def saferDivide(x,y):\n",
    "    try:\n",
    "        return x/y\n",
    "    except ZeroDivisionError:\n",
    "        print(\"Oh no\")\n",
    "        return float(\"inf\")"
   ]
  },
  {
   "cell_type": "code",
   "execution_count": 5,
   "metadata": {},
   "outputs": [
    {
     "data": {
      "text/plain": [
       "2.0"
      ]
     },
     "execution_count": 5,
     "metadata": {},
     "output_type": "execute_result"
    }
   ],
   "source": [
    "saferDivide(4,2)"
   ]
  },
  {
   "cell_type": "code",
   "execution_count": 6,
   "metadata": {},
   "outputs": [
    {
     "name": "stdout",
     "output_type": "stream",
     "text": [
      "Oh no\n"
     ]
    },
    {
     "data": {
      "text/plain": [
       "inf"
      ]
     },
     "execution_count": 6,
     "metadata": {},
     "output_type": "execute_result"
    }
   ],
   "source": [
    "saferDivide(4,0)"
   ]
  },
  {
   "cell_type": "code",
   "execution_count": 7,
   "metadata": {},
   "outputs": [
    {
     "ename": "TypeError",
     "evalue": "unsupported operand type(s) for /: 'int' and 'str'",
     "output_type": "error",
     "traceback": [
      "\u001b[0;31m---------------------------------------------------------------------------\u001b[0m",
      "\u001b[0;31mTypeError\u001b[0m                                 Traceback (most recent call last)",
      "\u001b[0;32m<ipython-input-7-b9a470182336>\u001b[0m in \u001b[0;36m<module>\u001b[0;34m\u001b[0m\n\u001b[0;32m----> 1\u001b[0;31m \u001b[0msaferDivide\u001b[0m\u001b[0;34m(\u001b[0m\u001b[0;36m4\u001b[0m\u001b[0;34m,\u001b[0m\u001b[0;34m'2'\u001b[0m\u001b[0;34m)\u001b[0m\u001b[0;34m\u001b[0m\u001b[0;34m\u001b[0m\u001b[0m\n\u001b[0m",
      "\u001b[0;32m<ipython-input-4-86101fc4752a>\u001b[0m in \u001b[0;36msaferDivide\u001b[0;34m(x, y)\u001b[0m\n\u001b[1;32m      1\u001b[0m \u001b[0;32mdef\u001b[0m \u001b[0msaferDivide\u001b[0m\u001b[0;34m(\u001b[0m\u001b[0mx\u001b[0m\u001b[0;34m,\u001b[0m\u001b[0my\u001b[0m\u001b[0;34m)\u001b[0m\u001b[0;34m:\u001b[0m\u001b[0;34m\u001b[0m\u001b[0;34m\u001b[0m\u001b[0m\n\u001b[1;32m      2\u001b[0m     \u001b[0;32mtry\u001b[0m\u001b[0;34m:\u001b[0m\u001b[0;34m\u001b[0m\u001b[0;34m\u001b[0m\u001b[0m\n\u001b[0;32m----> 3\u001b[0;31m         \u001b[0;32mreturn\u001b[0m \u001b[0mx\u001b[0m\u001b[0;34m/\u001b[0m\u001b[0my\u001b[0m\u001b[0;34m\u001b[0m\u001b[0;34m\u001b[0m\u001b[0m\n\u001b[0m\u001b[1;32m      4\u001b[0m     \u001b[0;32mexcept\u001b[0m \u001b[0mZeroDivisionError\u001b[0m\u001b[0;34m:\u001b[0m\u001b[0;34m\u001b[0m\u001b[0;34m\u001b[0m\u001b[0m\n\u001b[1;32m      5\u001b[0m         \u001b[0mprint\u001b[0m\u001b[0;34m(\u001b[0m\u001b[0;34m\"Oh no\"\u001b[0m\u001b[0;34m)\u001b[0m\u001b[0;34m\u001b[0m\u001b[0;34m\u001b[0m\u001b[0m\n",
      "\u001b[0;31mTypeError\u001b[0m: unsupported operand type(s) for /: 'int' and 'str'"
     ]
    }
   ],
   "source": [
    "saferDivide(4,'2')"
   ]
  },
  {
   "cell_type": "markdown",
   "metadata": {},
   "source": [
    "Let's try to handle String inputs:"
   ]
  },
  {
   "cell_type": "code",
   "execution_count": 14,
   "metadata": {},
   "outputs": [],
   "source": [
    "def safestDivide(x,y):\n",
    "    try:\n",
    "        return x/y\n",
    "    except ZeroDivisionError:\n",
    "        print(\"Oh no\")\n",
    "        if x==0:\n",
    "            return float(\"nan\")\n",
    "        else:\n",
    "            return float(\"inf\")\n",
    "    except (TypeError, ValueError):\n",
    "        print('Oops')\n",
    "        if type(x) == str or type(y) == str:\n",
    "            return float(x)/float(y)\n",
    "        return float(\"nan\")\n",
    "    except:\n",
    "        print(\"I don't know what happened\")\n",
    "        raise"
   ]
  },
  {
   "cell_type": "code",
   "execution_count": 9,
   "metadata": {},
   "outputs": [
    {
     "data": {
      "text/plain": [
       "2.0"
      ]
     },
     "execution_count": 9,
     "metadata": {},
     "output_type": "execute_result"
    }
   ],
   "source": [
    "saferDivide(4,2)"
   ]
  },
  {
   "cell_type": "code",
   "execution_count": 10,
   "metadata": {},
   "outputs": [
    {
     "name": "stdout",
     "output_type": "stream",
     "text": [
      "Oh no\n"
     ]
    },
    {
     "data": {
      "text/plain": [
       "inf"
      ]
     },
     "execution_count": 10,
     "metadata": {},
     "output_type": "execute_result"
    }
   ],
   "source": [
    "saferDivide(4,0)"
   ]
  },
  {
   "cell_type": "code",
   "execution_count": 15,
   "metadata": {},
   "outputs": [
    {
     "name": "stdout",
     "output_type": "stream",
     "text": [
      "Oops\n"
     ]
    },
    {
     "data": {
      "text/plain": [
       "nan"
      ]
     },
     "execution_count": 15,
     "metadata": {},
     "output_type": "execute_result"
    }
   ],
   "source": [
    "safestDivide(4,[1,2,3])"
   ]
  },
  {
   "cell_type": "markdown",
   "metadata": {},
   "source": [
    "# Example - handling user inputs\n",
    "Let's make a little game - the user will keep guessing numbers until they correctly guess the randomly generated number. The game should give clues to help the user get closer."
   ]
  },
  {
   "cell_type": "code",
   "execution_count": 23,
   "metadata": {},
   "outputs": [
    {
     "name": "stdout",
     "output_type": "stream",
     "text": [
      "Welcome\n",
      "Enter your guess: 2\n",
      "Try a larger number.\n",
      "Enter your guess: 56\n",
      "Try a smaller number.\n",
      "Enter your guess: 34\n",
      "Try a larger number.\n",
      "Enter your guess: 40\n",
      "Try a larger number.\n",
      "Enter your guess: 45\n",
      "Try a smaller number.\n",
      "Enter your guess: 43\n",
      "Try a larger number.\n",
      "Enter your guess: 44\n",
      "Well done! The number was 44.\n"
     ]
    }
   ],
   "source": [
    "import random\n",
    "def play(maxNumber):\n",
    "    print(\"Welcome\")\n",
    "    secret = random.choice(range(1,maxNumber))\n",
    "    # numGuesses = 0\n",
    "    userGuess = 0\n",
    "    while userGuess != secret:\n",
    "        userGuess = input(\"Enter your guess: \")\n",
    "        try:\n",
    "            userGuess = int(userGuess)\n",
    "        except:\n",
    "            print(\"Put in an integer!\")\n",
    "            continue\n",
    "        if userGuess > 100:\n",
    "            print(f\"Put in an integer less than {maxNumber}.\")\n",
    "            continue\n",
    "        if userGuess > secret:\n",
    "            print(\"Try a smaller number.\")\n",
    "        elif userGuess < secret:\n",
    "            print(\"Try a larger number.\")\n",
    "    print(f\"Well done! The number was {secret}.\")\n",
    "        ##### Finish game here\n",
    "\n",
    "play(100)"
   ]
  },
  {
   "cell_type": "markdown",
   "metadata": {},
   "source": [
    "# Example - create a hangman-type game\n",
    "\n",
    "## A)\n",
    "Write a function, playHangman(word_set, numGuesses), which takes a list of possible words and gives the user numGuesses chances to guess the word. Similar to the game hangman, the user can enter a letter and the game will show where in the word the letter shows up, or the user can guess a full word. The function should properly handle bad input types. A sample game might look like this:"
   ]
  },
  {
   "cell_type": "code",
   "execution_count": 6,
   "metadata": {},
   "outputs": [
    {
     "data": {
      "image/png": "[encoded data removed]",
      "text/plain": [
       "<IPython.core.display.Image object>"
      ]
     },
     "execution_count": 6,
     "metadata": {
      "image/png": {
       "width": 400
      }
     },
     "output_type": "execute_result"
    }
   ],
   "source": [
    "from IPython.display import Image\n",
    "Image(filename='Files/hangmanExample.png',width=400)"
   ]
  },
  {
   "cell_type": "code",
   "execution_count": 1,
   "metadata": {},
   "outputs": [],
   "source": [
    "import random\n",
    "\n",
    "wordList = [\"potato\",\"tomato\",\"yay\",\"wow\",\"cunningham\", \"vang\", \"centerboard\",\n",
    "             \"autobailer\", \"capsize\", \"spinnaker\", \"telltales\"]\n",
    "\n",
    "def playHangman(wordSet,numGuesses):\n",
    "    word = random.choice(wordSet)\n",
    "    listWord = []\n",
    "    listWord[:0] = word\n",
    "    guessWord = [\"_\"] * len(listWord)\n",
    "    pastGuesses = []\n",
    "    # print(listWord)\n",
    "    print(f\"Welcome! You have {numGuesses} guesses to find the secret word:\")\n",
    "    print(guessWord,\"\\n\")\n",
    "    while numGuesses > 0:\n",
    "        guess = input(\"Enter your guess: \")\n",
    "        if len(guess) == 1 and guess.isalpha() and guess not in pastGuesses:\n",
    "            for i,x in enumerate(word):\n",
    "                if guess == x:\n",
    "                    guessWord[i] = str(guess)\n",
    "            numGuesses -= 1\n",
    "            print(f\"{guessWord} - {numGuesses} guesses remaining \\n\")\n",
    "            if listWord == guessWord:\n",
    "                numGuesses = 0\n",
    "            pastGuesses.append(guess)\n",
    "        elif len(guess) == len(listWord) and guess.isalpha() and guess not in pastGuesses:\n",
    "            guessWordLong = []\n",
    "            guessWordLong[:0] = guess\n",
    "            if listWord == guessWordLong:\n",
    "                numGuesses = 0\n",
    "            else:\n",
    "                numGuesses -= 1\n",
    "                print(f\"{guessWordLong[0].upper()}{guess[1:(len(guess))]} was not the correct word.\")\n",
    "                print(f\"{guessWord} - {numGuesses} guesses remaining \\n\")\n",
    "                pastGuesses.append(guess)\n",
    "        elif guess in pastGuesses:\n",
    "            print(f\"Enter a new guess. Your past guesses were: {pastGuesses} - {numGuesses} guesses remaning. \\n\")\n",
    "        else:\n",
    "            print(f\"Enter a letter or a {len(word)} letter word guess - {numGuesses} guesses remaining. \\n\")\n",
    "    print(f\"Yay, you win! The answer was {word}.\")"
   ]
  },
  {
   "cell_type": "code",
   "execution_count": 13,
   "metadata": {},
   "outputs": [
    {
     "name": "stdout",
     "output_type": "stream",
     "text": [
      "3\n"
     ]
    }
   ],
   "source": [
    "word = \"yay\"\n",
    "guess = \"yeet\"\n",
    "if len(guess) == 1 or len(guess) == len(word):\n",
    "    print(\"yep\")\n",
    "    \n",
    "print(len(str(\"1.5\")))"
   ]
  },
  {
   "cell_type": "markdown",
   "metadata": {},
   "source": [
    "## B)\n",
    "Parse hangmanText.txt to create a list of words that you can use to play your hangman game."
   ]
  },
  {
   "cell_type": "code",
   "execution_count": 6,
   "metadata": {},
   "outputs": [],
   "source": [
    "import re\n",
    "import string\n",
    "import numpy as np\n",
    "\n",
    "with open(\"Files/hangmanText.txt\", \"r\") as file:\n",
    "    words = file.read()\n",
    "\n",
    "words = re.sub('['+string.punctuation+']',\"\", words)\n",
    "words = words.split()\n",
    "words = [w.lower() for w in words if w.isalpha() and len(w)>6]\n",
    "words = np.unique(words)"
   ]
  },
  {
   "cell_type": "code",
   "execution_count": 7,
   "metadata": {},
   "outputs": [
    {
     "name": "stdout",
     "output_type": "stream",
     "text": [
      "Welcome! You have 15 guesses to find the secret word:\n",
      "['_', '_', '_', '_', '_', '_', '_'] \n",
      "\n",
      "Enter your guess: a\n",
      "['_', '_', '_', '_', '_', '_', '_'] - 14 guesses remaining \n",
      "\n",
      "Enter your guess: e\n",
      "['_', '_', '_', '_', '_', '_', '_'] - 13 guesses remaining \n",
      "\n",
      "Enter your guess: i\n",
      "['_', 'i', '_', '_', 'i', '_', '_'] - 12 guesses remaining \n",
      "\n",
      "Enter your guess: d\n",
      "['_', 'i', '_', '_', 'i', '_', '_'] - 11 guesses remaining \n",
      "\n",
      "Enter your guess: s\n",
      "['_', 'i', 's', '_', 'i', '_', '_'] - 10 guesses remaining \n",
      "\n",
      "Enter your guess: o\n",
      "['_', 'i', 's', '_', 'i', '_', '_'] - 9 guesses remaining \n",
      "\n",
      "Enter your guess: y\n",
      "['_', 'i', 's', '_', 'i', '_', '_'] - 8 guesses remaining \n",
      "\n",
      "Enter your guess: u\n",
      "['_', 'i', 's', '_', 'i', '_', '_'] - 7 guesses remaining \n",
      "\n",
      "Enter your guess: n\n",
      "['_', 'i', 's', '_', 'i', 'n', '_'] - 6 guesses remaining \n",
      "\n",
      "Enter your guess: g\n",
      "['_', 'i', 's', '_', 'i', 'n', 'g'] - 5 guesses remaining \n",
      "\n",
      "Enter your guess: t\n",
      "['_', 'i', 's', '_', 'i', 'n', 'g'] - 4 guesses remaining \n",
      "\n",
      "Enter your guess: r\n",
      "['_', 'i', 's', '_', 'i', 'n', 'g'] - 3 guesses remaining \n",
      "\n",
      "Enter your guess: help\n",
      "Enter a letter or a 7 letter word guess - 3 guesses remaining. \n",
      "\n",
      "Enter your guess: l\n",
      "['_', 'i', 's', '_', 'i', 'n', 'g'] - 2 guesses remaining \n",
      "\n",
      "Enter your guess: p\n",
      "['_', 'i', 's', '_', 'i', 'n', 'g'] - 1 guesses remaining \n",
      "\n",
      "Enter your guess: f\n",
      "['f', 'i', 's', '_', 'i', 'n', 'g'] - 0 guesses remaining \n",
      "\n",
      "Yay, you win! The answer was fishing.\n"
     ]
    }
   ],
   "source": [
    "playHangman(words,15)"
   ]
  },
  {
   "cell_type": "code",
   "execution_count": null,
   "metadata": {},
   "outputs": [],
   "source": []
  }
 ],
 "metadata": {
  "kernelspec": {
   "display_name": "Python 3",
   "language": "python",
   "name": "python3"
  },
  "language_info": {
   "codemirror_mode": {
    "name": "ipython",
    "version": 3
   },
   "file_extension": ".py",
   "mimetype": "text/x-python",
   "name": "python",
   "nbconvert_exporter": "python",
   "pygments_lexer": "ipython3",
   "version": "3.7.4"
  }
 },
 "nbformat": 4,
 "nbformat_minor": 5
}
