{
 "cells": [
  {
   "cell_type": "markdown",
   "id": "f42b2aea",
   "metadata": {},
   "source": [
    "# Docstring Formatting"
   ]
  },
  {
   "cell_type": "markdown",
   "id": "e4f75ca4",
   "metadata": {},
   "source": [
    "## Example:"
   ]
  },
  {
   "cell_type": "code",
   "execution_count": null,
   "id": "faa8fce9",
   "metadata": {},
   "outputs": [],
   "source": [
    "def getPersonDict(name,age,alive=True,siblings=None):\n",
    "    \"\"\"\n",
    "    Function to create a dictionary containing input information about a person.\n",
    "    \n",
    "    Parameters:\n",
    "    ----------\n",
    "    name: Str\n",
    "        Person's name.\n",
    "    age: Int\n",
    "        Person's age.\n",
    "    alive: Boolean\n",
    "        Boolean indicating whether the person is still alive. Default is True.\n",
    "    siblings: List\n",
    "        List containing names of all of this person's siblings. Default is None.\n",
    "        \n",
    "    Returns:\n",
    "    ----------\n",
    "    person: Dict\n",
    "        Dictionary containing all known attributes of the given person. All keys are strings.\n",
    "    \"\"\"\n",
    "    \n",
    "    person = {}\n",
    "    person['name'] = name\n",
    "    person['age'] = age\n",
    "    person['alive'] = alive\n",
    "    person['siblings'] = None\n",
    "    \n",
    "    return person"
   ]
  },
  {
   "cell_type": "markdown",
   "id": "9c18827a",
   "metadata": {},
   "source": [
    "## Task 1:\n",
    "Add docstrings to the hangman function"
   ]
  },
  {
   "cell_type": "code",
   "execution_count": null,
   "id": "aef05a1c",
   "metadata": {},
   "outputs": [],
   "source": [
    "def playHangman(wordSet,numGuesses):\n",
    "    word = random.choice(wordSet)\n",
    "    listWord = []\n",
    "    listWord[:0] = word\n",
    "    guessWord = [\"_\"] * len(listWord)\n",
    "    pastGuesses = []\n",
    "    print(f\"Welcome! You have {numGuesses} guesses to find the secret word:\")\n",
    "    print(guessWord,\"\\n\")\n",
    "    while numGuesses > 0:\n",
    "        guess = input(\"Enter your guess: \")\n",
    "        if len(guess) == 1 and guess.isalpha() and guess not in pastGuesses:\n",
    "            for i,x in enumerate(word):\n",
    "                if guess == x:\n",
    "                    guessWord[i] = str(guess)\n",
    "            numGuesses -= 1\n",
    "            print(f\"{guessWord} - {numGuesses} guesses remaining \\n\")\n",
    "            if listWord == guessWord:\n",
    "                numGuesses = 0\n",
    "            pastGuesses.append(guess)\n",
    "        elif len(guess) == len(listWord) and guess.isalpha() and guess not in pastGuesses:\n",
    "            guessWordLong = []\n",
    "            guessWordLong[:0] = guess\n",
    "            if listWord == guessWordLong:\n",
    "                numGuesses = 0\n",
    "            else:\n",
    "                numGuesses -= 1\n",
    "                print(f\"{guessWordLong[0].upper()}{guess[1:(len(guess))]} was not the correct word.\")\n",
    "                print(f\"{guessWord} - {numGuesses} guesses remaining \\n\")\n",
    "                pastGuesses.append(guess)\n",
    "        elif guess in pastGuesses:\n",
    "            print(f\"Enter a new guess. Your past guesses were: {pastGuesses} - {numGuesses} guesses remaning. \\n\")\n",
    "        else:\n",
    "            print(f\"Enter a letter or a {len(word)} letter word guess - {numGuesses} guesses remaining. \\n\")\n",
    "    print(f\"Yay, you win! The answer was {word}.\")"
   ]
  },
  {
   "cell_type": "markdown",
   "id": "66a7ad44",
   "metadata": {},
   "source": [
    "# -------------------------------------------------------------------------------------------"
   ]
  },
  {
   "cell_type": "markdown",
   "id": "25979d13",
   "metadata": {},
   "source": [
    "# Unit Testing"
   ]
  },
  {
   "cell_type": "markdown",
   "id": "077ec787",
   "metadata": {},
   "source": [
    "Write unit tests for your findConescutiveMax function."
   ]
  },
  {
   "cell_type": "code",
   "execution_count": null,
   "id": "f96ec0ed",
   "metadata": {},
   "outputs": [],
   "source": [
    "def findConsecutiveMax(array):\n",
    "    maxCharacter=\"\"\n",
    "    numMax=0\n",
    "    lastChar=\"\"\n",
    "    numCurrent=1\n",
    "    for i,x in enumerate(array):\n",
    "        if x == \"\":\n",
    "            continue\n",
    "        if x==lastChar:\n",
    "            numCurrent=numCurrent+1\n",
    "        else:\n",
    "            numCurrent=1\n",
    "        if numCurrent>numMax:\n",
    "            numMax=numCurrent\n",
    "            maxCharacter=x\n",
    "        lastChar=x\n",
    "    return maxCharacter"
   ]
  },
  {
   "cell_type": "code",
   "execution_count": null,
   "id": "1e4059e6",
   "metadata": {},
   "outputs": [],
   "source": [
    "import pytest"
   ]
  },
  {
   "cell_type": "code",
   "execution_count": null,
   "id": "592ceeb4",
   "metadata": {},
   "outputs": [],
   "source": [
    "!pytest ."
   ]
  },
  {
   "cell_type": "markdown",
   "id": "467289c6",
   "metadata": {},
   "source": [
    "## Task:\n",
    "\n",
    "Write unit tests for your Circle class. Try to achieve 100% code coverage."
   ]
  },
  {
   "cell_type": "code",
   "execution_count": null,
   "id": "3514550f",
   "metadata": {},
   "outputs": [],
   "source": []
  }
 ],
 "metadata": {
  "kernelspec": {
   "display_name": "Python 3",
   "language": "python",
   "name": "python3"
  },
  "language_info": {
   "codemirror_mode": {
    "name": "ipython",
    "version": 3
   },
   "file_extension": ".py",
   "mimetype": "text/x-python",
   "name": "python",
   "nbconvert_exporter": "python",
   "pygments_lexer": "ipython3",
   "version": "3.8.10"
  }
 },
 "nbformat": 4,
 "nbformat_minor": 5
}
