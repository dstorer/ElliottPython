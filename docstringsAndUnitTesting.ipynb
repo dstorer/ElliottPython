{
 "cells": [
  {
   "cell_type": "markdown",
   "metadata": {},
   "source": [
    "# Docstring Formatting"
   ]
  },
  {
   "cell_type": "markdown",
   "metadata": {},
   "source": [
    "## Example:"
   ]
  },
  {
   "cell_type": "code",
   "execution_count": null,
   "metadata": {},
   "outputs": [],
   "source": [
    "def getPersonDict(name,age,alive=True,siblings=None):\n",
    "    \"\"\"\n",
    "    Function to create a dictionary containing input information about a person.\n",
    "    \n",
    "    Parameters:\n",
    "    ----------\n",
    "    name: Str\n",
    "        Person's name.\n",
    "    age: Int\n",
    "        Person's age.\n",
    "    alive: Boolean\n",
    "        Boolean indicating whether the person is still alive. Default is True.\n",
    "    siblings: List\n",
    "        List containing names of all of this person's siblings. Default is None.\n",
    "        \n",
    "    Returns:\n",
    "    ----------\n",
    "    person: Dict\n",
    "        Dictionary containing all known attributes of the given person. All keys are strings.\n",
    "    \"\"\"\n",
    "    \n",
    "    person = {}\n",
    "    person['name'] = name\n",
    "    person['age'] = age\n",
    "    person['alive'] = alive\n",
    "    person['siblings'] = None\n",
    "    \n",
    "    return person"
   ]
  },
  {
   "cell_type": "markdown",
   "metadata": {},
   "source": [
    "## Task 1:\n",
    "Add docstrings to the hangman function"
   ]
  },
  {
   "cell_type": "code",
   "execution_count": 1,
   "metadata": {},
   "outputs": [],
   "source": [
    "def playHangman(wordSet,numGuesses):\n",
    "    \"\"\"\n",
    "    Function to play the hangman game.\n",
    "    \n",
    "    Parameters:\n",
    "    ----------\n",
    "    wordSet: List or Array\n",
    "        List or Array containing the words to guess from.\n",
    "    numGuesses: Int\n",
    "        Number of guesses allowed.\n",
    "    \n",
    "    Returns:\n",
    "    ----------\n",
    "    None\n",
    "    \"\"\"\n",
    "    word = random.choice(wordSet)\n",
    "    listWord = []\n",
    "    listWord[:0] = word\n",
    "    guessWord = [\"_\"] * len(listWord)\n",
    "    pastGuesses = []\n",
    "    print(f\"Welcome! You have {numGuesses} guesses to find the secret word:\")\n",
    "    print(guessWord,\"\\n\")\n",
    "    while numGuesses > 0:\n",
    "        guess = input(\"Enter your guess: \")\n",
    "        if len(guess) == 1 and guess.isalpha() and guess not in pastGuesses:\n",
    "            for i,x in enumerate(word):\n",
    "                if guess == x:\n",
    "                    guessWord[i] = str(guess)\n",
    "            numGuesses -= 1\n",
    "            print(f\"{guessWord} - {numGuesses} guesses remaining \\n\")\n",
    "            if listWord == guessWord:\n",
    "                numGuesses = 0\n",
    "            pastGuesses.append(guess)\n",
    "        elif len(guess) == len(listWord) and guess.isalpha() and guess not in pastGuesses:\n",
    "            guessWordLong = []\n",
    "            guessWordLong[:0] = guess\n",
    "            if listWord == guessWordLong:\n",
    "                numGuesses = 0\n",
    "            else:\n",
    "                numGuesses -= 1\n",
    "                print(f\"{guessWordLong[0].upper()}{guess[1:(len(guess))]} was not the correct word.\")\n",
    "                print(f\"{guessWord} - {numGuesses} guesses remaining \\n\")\n",
    "                pastGuesses.append(guess)\n",
    "        elif guess in pastGuesses:\n",
    "            print(f\"Enter a new guess. Your past guesses were: {pastGuesses} - {numGuesses} guesses remaning. \\n\")\n",
    "        else:\n",
    "            print(f\"Enter a letter or a {len(word)} letter word guess - {numGuesses} guesses remaining. \\n\")\n",
    "    print(f\"Yay, you win! The answer was {word}.\")"
   ]
  },
  {
   "cell_type": "code",
   "execution_count": 3,
   "metadata": {},
   "outputs": [
    {
     "data": {
      "text/plain": [
       "'\\n    Function to play the hangman game.\\n    \\n    Parameters:\\n    ----------\\n    wordSet: List or Array\\n        List or Array containing the words to guess from.\\n    numGuesses: Int\\n        Number of guesses allowed.\\n    \\n    Returns:\\n    ----------\\n    None\\n    '"
      ]
     },
     "execution_count": 3,
     "metadata": {},
     "output_type": "execute_result"
    }
   ],
   "source": [
    "playHangman.__doc__"
   ]
  },
  {
   "cell_type": "code",
   "execution_count": 14,
   "metadata": {},
   "outputs": [
    {
     "name": "stdout",
     "output_type": "stream",
     "text": [
      "Help on function playHangman in module __main__:\n",
      "\n",
      "playHangman(wordSet, numGuesses)\n",
      "    Function to play the hangman game.\n",
      "    \n",
      "    Parameters:\n",
      "    ----------\n",
      "    wordSet: List or Array\n",
      "        List or Array containing the words to guess from.\n",
      "    numGuesses: Int\n",
      "        Number of guesses allowed.\n",
      "    \n",
      "    Returns:\n",
      "    ----------\n",
      "    None\n",
      "\n"
     ]
    }
   ],
   "source": [
    "help(playHangman)"
   ]
  },
  {
   "cell_type": "markdown",
   "metadata": {},
   "source": [
    "# -------------------------------------------------------------------------------------------"
   ]
  },
  {
   "cell_type": "markdown",
   "metadata": {},
   "source": [
    "# Unit Testing"
   ]
  },
  {
   "cell_type": "markdown",
   "metadata": {},
   "source": [
    "Write unit tests for your findConescutiveMax function."
   ]
  },
  {
   "cell_type": "code",
   "execution_count": null,
   "metadata": {},
   "outputs": [],
   "source": [
    "def findConsecutiveMax(array):\n",
    "    maxCharacter=\"\"\n",
    "    numMax=0\n",
    "    lastChar=\"\"\n",
    "    numCurrent=1\n",
    "    for i,x in enumerate(array):\n",
    "        if x == \"\":\n",
    "            continue\n",
    "        if x==lastChar:\n",
    "            numCurrent=numCurrent+1\n",
    "        else:\n",
    "            numCurrent=1\n",
    "        if numCurrent>numMax:\n",
    "            numMax=numCurrent\n",
    "            maxCharacter=x\n",
    "        lastChar=x\n",
    "    return maxCharacter"
   ]
  },
  {
   "cell_type": "code",
   "execution_count": 4,
   "metadata": {},
   "outputs": [],
   "source": [
    "import pytest"
   ]
  },
  {
   "cell_type": "code",
   "execution_count": 13,
   "metadata": {},
   "outputs": [
    {
     "name": "stdout",
     "output_type": "stream",
     "text": [
      "\u001b[1m============================= test session starts ==============================\u001b[0m\n",
      "platform darwin -- Python 3.7.4, pytest-5.2.1, py-1.8.0, pluggy-0.13.0\n",
      "rootdir: /Users/elliottchalcraft/Documents/1_Schooling/ElliottPython\n",
      "plugins: arraydiff-0.3, remotedata-0.3.2, doctestplus-0.4.0, openfiles-0.4.0, asdf-2.4.2\n",
      "collected 2 items                                                              \u001b[0m\n",
      "\n",
      "test_consecutiveMax.py \u001b[32m.\u001b[0m\u001b[32m.\u001b[0m\u001b[36m                                                [100%]\u001b[0m\n",
      "\n",
      "\u001b[32m\u001b[1m============================== 2 passed in 0.07s ===============================\u001b[0m\n"
     ]
    }
   ],
   "source": [
    "!pytest ."
   ]
  },
  {
   "cell_type": "markdown",
   "metadata": {},
   "source": [
    "## Task:\n",
    "\n",
    "Write unit tests for your Circle class. Try to achieve 100% code coverage."
   ]
  },
  {
   "cell_type": "code",
   "execution_count": null,
   "metadata": {},
   "outputs": [],
   "source": []
  }
 ],
 "metadata": {
  "kernelspec": {
   "display_name": "Python 3",
   "language": "python",
   "name": "python3"
  },
  "language_info": {
   "codemirror_mode": {
    "name": "ipython",
    "version": 3
   },
   "file_extension": ".py",
   "mimetype": "text/x-python",
   "name": "python",
   "nbconvert_exporter": "python",
   "pygments_lexer": "ipython3",
   "version": "3.7.4"
  }
 },
 "nbformat": 4,
 "nbformat_minor": 5
}
