{
 "cells": [
  {
   "cell_type": "markdown",
   "id": "ff595d1f",
   "metadata": {},
   "source": [
    "# Docstring Formatting"
   ]
  },
  {
   "cell_type": "markdown",
   "id": "979a044e",
   "metadata": {},
   "source": [
    "## Example:"
   ]
  },
  {
   "cell_type": "code",
   "execution_count": 1,
   "id": "76e638ac",
   "metadata": {},
   "outputs": [],
   "source": [
    "def getPersonDict(name,age,alive=True,siblings=None):\n",
    "    \"\"\"\n",
    "    Function to create a dictionary containing input information about a person.\n",
    "    \n",
    "    Parameters:\n",
    "    ----------\n",
    "    name: Str\n",
    "        Person's name.\n",
    "    age: Int\n",
    "        Person's age.\n",
    "    alive: Boolean\n",
    "        Boolean indicating whether the person is still alive. Default is True.\n",
    "    siblings: List\n",
    "        List containing names of all of this person's siblings. Default is None.\n",
    "        \n",
    "    Returns:\n",
    "    ----------\n",
    "    person: Dict\n",
    "        Dictionary containing all known attributes of the given person. All keys are strings.\n",
    "    \"\"\"\n",
    "    \n",
    "    person = {}\n",
    "    person['name'] = name\n",
    "    person['age'] = age\n",
    "    person['alive'] = alive\n",
    "    person['siblings'] = None\n",
    "    \n",
    "    return person"
   ]
  },
  {
   "cell_type": "markdown",
   "id": "57d339f3",
   "metadata": {},
   "source": [
    "## Task 1:\n",
    "Add docstrings to the hangman function"
   ]
  },
  {
   "cell_type": "code",
   "execution_count": null,
   "id": "a49cdf42",
   "metadata": {},
   "outputs": [],
   "source": [
    "def playHangman(wordSet,numGuesses):\n",
    "    word = random.choice(wordSet)\n",
    "    listWord = []\n",
    "    listWord[:0] = word\n",
    "    guessWord = [\"_\"] * len(listWord)\n",
    "    pastGuesses = []\n",
    "    print(f\"Welcome! You have {numGuesses} guesses to find the secret word:\")\n",
    "    print(guessWord,\"\\n\")\n",
    "    while numGuesses > 0:\n",
    "        guess = input(\"Enter your guess: \")\n",
    "        if len(guess) == 1 and guess.isalpha() and guess not in pastGuesses:\n",
    "            for i,x in enumerate(word):\n",
    "                if guess == x:\n",
    "                    guessWord[i] = str(guess)\n",
    "            numGuesses -= 1\n",
    "            print(f\"{guessWord} - {numGuesses} guesses remaining \\n\")\n",
    "            if listWord == guessWord:\n",
    "                numGuesses = 0\n",
    "            pastGuesses.append(guess)\n",
    "        elif len(guess) == len(listWord) and guess.isalpha() and guess not in pastGuesses:\n",
    "            guessWordLong = []\n",
    "            guessWordLong[:0] = guess\n",
    "            if listWord == guessWordLong:\n",
    "                numGuesses = 0\n",
    "            else:\n",
    "                numGuesses -= 1\n",
    "                print(f\"{guessWordLong[0].upper()}{guess[1:(len(guess))]} was not the correct word.\")\n",
    "                print(f\"{guessWord} - {numGuesses} guesses remaining \\n\")\n",
    "                pastGuesses.append(guess)\n",
    "        elif guess in pastGuesses:\n",
    "            print(f\"Enter a new guess. Your past guesses were: {pastGuesses} - {numGuesses} guesses remaning. \\n\")\n",
    "        else:\n",
    "            print(f\"Enter a letter or a {len(word)} letter word guess - {numGuesses} guesses remaining. \\n\")\n",
    "    print(f\"Yay, you win! The answer was {word}.\")"
   ]
  },
  {
   "cell_type": "markdown",
   "id": "5f04590c",
   "metadata": {},
   "source": [
    "# -------------------------------------------------------------------------------------------"
   ]
  },
  {
   "cell_type": "markdown",
   "id": "c8071036",
   "metadata": {},
   "source": [
    "# Unit Testing"
   ]
  },
  {
   "cell_type": "markdown",
   "id": "f63e53bd",
   "metadata": {},
   "source": [
    "Write unit tests for your findConescutiveMax function."
   ]
  },
  {
   "cell_type": "code",
   "execution_count": 2,
   "id": "786d9ce6",
   "metadata": {},
   "outputs": [],
   "source": [
    "def findConsecutiveMax(array):\n",
    "    maxCharacter=\"\"\n",
    "    numMax=0\n",
    "    lastChar=\"\"\n",
    "    numCurrent=1\n",
    "    for i,x in enumerate(array):\n",
    "        if x == \"\":\n",
    "            continue\n",
    "        if x==lastChar:\n",
    "            numCurrent=numCurrent+1\n",
    "        else:\n",
    "            numCurrent=1\n",
    "        if numCurrent>numMax:\n",
    "            numMax=numCurrent\n",
    "            maxCharacter=x\n",
    "        lastChar=x\n",
    "    return maxCharacter"
   ]
  },
  {
   "cell_type": "code",
   "execution_count": 3,
   "id": "5d8f7620",
   "metadata": {},
   "outputs": [],
   "source": [
    "import pytest"
   ]
  },
  {
   "cell_type": "code",
   "execution_count": 12,
   "id": "3a3b249f",
   "metadata": {},
   "outputs": [
    {
     "name": "stdout",
     "output_type": "stream",
     "text": [
      "\u001b[1m============================= test session starts ==============================\u001b[0m\r\n",
      "platform darwin -- Python 3.8.10, pytest-6.2.3, py-1.10.0, pluggy-0.13.1\r\n",
      "rootdir: /Users/dstorer/Documents/_Files/Dara/ElliottPython\r\n",
      "plugins: cov-2.11.1, cases-3.4.6\r\n",
      "\u001b[1mcollecting ... \u001b[0m\u001b[1m\r",
      "collected 1 item                                                               \u001b[0m\r\n",
      "\r\n",
      "test_consecutiveMax.py \u001b[32m.\u001b[0m\u001b[32m                                                 [100%]\u001b[0m\r\n",
      "\r\n",
      "\u001b[32m============================== \u001b[32m\u001b[1m1 passed\u001b[0m\u001b[32m in 0.02s\u001b[0m\u001b[32m ===============================\u001b[0m\r\n"
     ]
    }
   ],
   "source": [
    "!pytest ."
   ]
  },
  {
   "cell_type": "code",
   "execution_count": null,
   "id": "1b595380",
   "metadata": {},
   "outputs": [],
   "source": []
  }
 ],
 "metadata": {
  "kernelspec": {
   "display_name": "Python 3",
   "language": "python",
   "name": "python3"
  },
  "language_info": {
   "codemirror_mode": {
    "name": "ipython",
    "version": 3
   },
   "file_extension": ".py",
   "mimetype": "text/x-python",
   "name": "python",
   "nbconvert_exporter": "python",
   "pygments_lexer": "ipython3",
   "version": "3.8.10"
  }
 },
 "nbformat": 4,
 "nbformat_minor": 5
}
