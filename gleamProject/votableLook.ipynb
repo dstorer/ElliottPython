{
 "cells": [
  {
   "cell_type": "code",
   "execution_count": 1,
   "metadata": {},
   "outputs": [
    {
     "name": "stdout",
     "output_type": "stream",
     "text": [
      "['GLEAM', 'RAJ2000', 'DEJ2000', 'Fintwide', 'e_Fintwide', 'Fint076', 'e_Fint076', 'Fint084', 'e_Fint084', 'Fint092', 'e_Fint092', 'Fint099', 'e_Fint099', 'Fint107', 'e_Fint107', 'Fint115', 'e_Fint115', 'Fint122', 'e_Fint122', 'Fint130', 'e_Fint130', 'Fint143', 'e_Fint143', 'Fint151', 'e_Fint151', 'Fint158', 'e_Fint158', 'Fint166', 'e_Fint166', 'Fint174', 'e_Fint174', 'Fint181', 'e_Fint181', 'Fint189', 'e_Fint189', 'Fint197', 'e_Fint197', 'Fint204', 'e_Fint204', 'Fint212', 'e_Fint212', 'Fint220', 'e_Fint220', 'Fint227', 'e_Fint227', 'alpha', 'e_alpha', 'chi2', 'Fintfit200', 'e_Fintfit200']\n"
     ]
    }
   ],
   "source": [
    "from astropy.io.votable import parse\n",
    "\n",
    "votable = parse('gleam.vot')\n",
    "table = list(votable.iter_tables())[0]\n",
    "astr_table = table.to_table()\n",
    "print(astr_table.colnames)"
   ]
  },
  {
   "cell_type": "code",
   "execution_count": 4,
   "metadata": {},
   "outputs": [
    {
     "data": {
      "text/html": [
       "&lt;MaskedColumn name=&apos;chi2&apos; dtype=&apos;float64&apos; format=&apos;{:10.6f}&apos; description=&apos;? Reduced chi^2 statistic for spectral index fit (reduced_chi2)&apos; length=307455&gt;\n",
       "<table>\n",
       "<tr><td>1.327554</td></tr>\n",
       "<tr><td>--</td></tr>\n",
       "<tr><td>0.942012</td></tr>\n",
       "<tr><td>2.665318</td></tr>\n",
       "<tr><td>1.164225</td></tr>\n",
       "<tr><td>0.589487</td></tr>\n",
       "<tr><td>--</td></tr>\n",
       "<tr><td>--</td></tr>\n",
       "<tr><td>1.132762</td></tr>\n",
       "<tr><td>1.944313</td></tr>\n",
       "<tr><td>--</td></tr>\n",
       "<tr><td>--</td></tr>\n",
       "<tr><td>...</td></tr>\n",
       "<tr><td>0.819126</td></tr>\n",
       "<tr><td>1.248565</td></tr>\n",
       "<tr><td>1.467537</td></tr>\n",
       "<tr><td>1.636439</td></tr>\n",
       "<tr><td>1.451103</td></tr>\n",
       "<tr><td>0.784661</td></tr>\n",
       "<tr><td>--</td></tr>\n",
       "<tr><td>0.881723</td></tr>\n",
       "<tr><td>0.544369</td></tr>\n",
       "<tr><td>--</td></tr>\n",
       "<tr><td>--</td></tr>\n",
       "<tr><td>--</td></tr>\n",
       "</table>"
      ],
      "text/plain": [
       "<MaskedColumn name='chi2' dtype='float64' format='{:10.6f}' description='? Reduced chi^2 statistic for spectral index fit (reduced_chi2)' length=307455>\n",
       "  1.327554\n",
       "        --\n",
       "  0.942012\n",
       "  2.665318\n",
       "  1.164225\n",
       "  0.589487\n",
       "        --\n",
       "        --\n",
       "  1.132762\n",
       "  1.944313\n",
       "        --\n",
       "        --\n",
       "       ...\n",
       "  0.819126\n",
       "  1.248565\n",
       "  1.467537\n",
       "  1.636439\n",
       "  1.451103\n",
       "  0.784661\n",
       "        --\n",
       "  0.881723\n",
       "  0.544369\n",
       "        --\n",
       "        --\n",
       "        --"
      ]
     },
     "execution_count": 4,
     "metadata": {},
     "output_type": "execute_result"
    }
   ],
   "source": [
    "astr_table['chi2']"
   ]
  },
  {
   "cell_type": "code",
   "execution_count": null,
   "metadata": {},
   "outputs": [],
   "source": []
  }
 ],
 "metadata": {
  "kernelspec": {
   "display_name": "Python 3",
   "language": "python",
   "name": "python3"
  },
  "language_info": {
   "codemirror_mode": {
    "name": "ipython",
    "version": 3
   },
   "file_extension": ".py",
   "mimetype": "text/x-python",
   "name": "python",
   "nbconvert_exporter": "python",
   "pygments_lexer": "ipython3",
   "version": "3.7.4"
  }
 },
 "nbformat": 4,
 "nbformat_minor": 2
}
