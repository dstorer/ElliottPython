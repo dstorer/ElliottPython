{
 "cells": [
  {
   "cell_type": "code",
   "execution_count": 1,
   "metadata": {},
   "outputs": [
    {
     "name": "stdout",
     "output_type": "stream",
     "text": [
      "['GLEAM', 'RAJ2000', 'DEJ2000', 'Fintwide', 'e_Fintwide', 'Fint076', 'e_Fint076', 'Fint084', 'e_Fint084', 'Fint092', 'e_Fint092', 'Fint099', 'e_Fint099', 'Fint107', 'e_Fint107', 'Fint115', 'e_Fint115', 'Fint122', 'e_Fint122', 'Fint130', 'e_Fint130', 'Fint143', 'e_Fint143', 'Fint151', 'e_Fint151', 'Fint158', 'e_Fint158', 'Fint166', 'e_Fint166', 'Fint174', 'e_Fint174', 'Fint181', 'e_Fint181', 'Fint189', 'e_Fint189', 'Fint197', 'e_Fint197', 'Fint204', 'e_Fint204', 'Fint212', 'e_Fint212', 'Fint220', 'e_Fint220', 'Fint227', 'e_Fint227', 'alpha', 'e_alpha', 'chi2', 'Fintfit200', 'e_Fintfit200']\n"
     ]
    }
   ],
   "source": [
    "from astropy.io.votable import parse\n",
    "\n",
    "votable = parse('gleam.vot')\n",
    "table = list(votable.iter_tables())[0]\n",
    "astr_table = table.to_table()\n",
    "print(astr_table.colnames)"
   ]
  },
  {
   "cell_type": "code",
   "execution_count": 6,
   "metadata": {
    "scrolled": true
   },
   "outputs": [
    {
     "name": "stdout",
     "output_type": "stream",
     "text": [
      " DEJ2000  \n",
      "   deg    \n",
      "----------\n",
      "-89.687309\n",
      "-89.213310\n",
      "-89.155968\n",
      "-88.750610\n",
      "-88.740990\n",
      "-88.825325\n",
      "-88.430840\n",
      "-88.290367\n",
      "-88.139534\n",
      "-88.058319\n",
      "       ...\n",
      "  8.720312\n",
      " 21.503145\n",
      "  8.709949\n",
      " 11.380795\n",
      " 20.015001\n",
      " 19.062172\n",
      "  1.881389\n",
      " 18.497141\n",
      " 16.464996\n",
      "-33.956894\n",
      "Length = 307455 rows\n"
     ]
    }
   ],
   "source": [
    "x = astr_table['DEJ2000']\n",
    "print(x)"
   ]
  },
  {
   "cell_type": "code",
   "execution_count": 4,
   "metadata": {},
   "outputs": [
    {
     "data": {
      "text/plain": [
       "[<MaskedColumn name='Fint076' dtype='float64' unit='Jy' format='{:11.6f}' description='? Integrated flux in 072-080MHz image (int_flux_076)' length=307455>\n",
       "    0.528997\n",
       "   -0.032702\n",
       "    0.463359\n",
       "    2.686571\n",
       "    0.393777\n",
       "    0.215022\n",
       "    0.094567\n",
       "    0.304107\n",
       "    0.549277\n",
       "    1.070475\n",
       "    1.152941\n",
       "   -0.004239\n",
       "         ...\n",
       "    0.637234\n",
       "    2.765646\n",
       "    0.745175\n",
       "    6.628845\n",
       "    4.172024\n",
       "    0.201621\n",
       "   -0.101950\n",
       "    0.797789\n",
       "    0.719054\n",
       "    0.314990\n",
       "    1.189469\n",
       "   -2.056702,\n",
       " <MaskedColumn name='Fint076' dtype='float64' unit='Jy' format='{:11.6f}' description='? Integrated flux in 072-080MHz image (int_flux_076)' length=307455>\n",
       "    0.528997\n",
       "   -0.032702\n",
       "    0.463359\n",
       "    2.686571\n",
       "    0.393777\n",
       "    0.215022\n",
       "    0.094567\n",
       "    0.304107\n",
       "    0.549277\n",
       "    1.070475\n",
       "    1.152941\n",
       "   -0.004239\n",
       "         ...\n",
       "    0.637234\n",
       "    2.765646\n",
       "    0.745175\n",
       "    6.628845\n",
       "    4.172024\n",
       "    0.201621\n",
       "   -0.101950\n",
       "    0.797789\n",
       "    0.719054\n",
       "    0.314990\n",
       "    1.189469\n",
       "   -2.056702,\n",
       " <MaskedColumn name='Fint076' dtype='float64' unit='Jy' format='{:11.6f}' description='? Integrated flux in 072-080MHz image (int_flux_076)' length=307455>\n",
       "    0.528997\n",
       "   -0.032702\n",
       "    0.463359\n",
       "    2.686571\n",
       "    0.393777\n",
       "    0.215022\n",
       "    0.094567\n",
       "    0.304107\n",
       "    0.549277\n",
       "    1.070475\n",
       "    1.152941\n",
       "   -0.004239\n",
       "         ...\n",
       "    0.637234\n",
       "    2.765646\n",
       "    0.745175\n",
       "    6.628845\n",
       "    4.172024\n",
       "    0.201621\n",
       "   -0.101950\n",
       "    0.797789\n",
       "    0.719054\n",
       "    0.314990\n",
       "    1.189469\n",
       "   -2.056702]"
      ]
     },
     "execution_count": 4,
     "metadata": {},
     "output_type": "execute_result"
    }
   ],
   "source": [
    "[astr_table['Fint076'], astr_table['Fint076'] , astr_table['Fint076']]"
   ]
  },
  {
   "cell_type": "code",
   "execution_count": 5,
   "metadata": {},
   "outputs": [],
   "source": [
    "import fnmatch"
   ]
  },
  {
   "cell_type": "code",
   "execution_count": 6,
   "metadata": {},
   "outputs": [
    {
     "data": {
      "text/plain": [
       "['076',\n",
       " '084',\n",
       " '092',\n",
       " '099',\n",
       " '107',\n",
       " '115',\n",
       " '122',\n",
       " '130',\n",
       " '143',\n",
       " '151',\n",
       " '158',\n",
       " '166',\n",
       " '174',\n",
       " '181',\n",
       " '189',\n",
       " '197',\n",
       " '204',\n",
       " '212',\n",
       " '220',\n",
       " '227']"
      ]
     },
     "execution_count": 6,
     "metadata": {},
     "output_type": "execute_result"
    }
   ],
   "source": [
    "[x[4:] for x in fnmatch.filter(astr_table.colnames,'Fint[0-9]*')]"
   ]
  },
  {
   "cell_type": "code",
   "execution_count": 9,
   "metadata": {},
   "outputs": [
    {
     "name": "stdout",
     "output_type": "stream",
     "text": [
      "['Fint076', 'Fint084', 'Fint092', 'Fint099', 'Fint107', 'Fint115', 'Fint122', 'Fint130', 'Fint143', 'Fint151', 'Fint158', 'Fint166', 'Fint174', 'Fint181', 'Fint189', 'Fint197', 'Fint204', 'Fint212', 'Fint220', 'Fint227']\n",
      "[False, False, False, False, False, True, False, True, False, True, False, True, False, True, False, True, False, True, False, True, False, True, False, True, False, True, False, True, False, True, False, True, False, True, False, True, False, True, False, True, False, True, False, True, False, False, False, False, False, False]\n"
     ]
    }
   ],
   "source": [
    "# [i for x,i in enumerate(astr_table[])]\n",
    "# print(astr_table.colnames)\n",
    "Fint_list = fnmatch.filter(astr_table.colnames,'Fint[0-9]*')\n",
    "print(Fint_list)\n",
    "# [i for i,x in enumerate(Fint_list)]\n",
    "y = [fnmatch.fnmatchcase(x,'Fint[0-9]*') for x in astr_table.colnames]\n",
    "print(y)\n",
    "# z = []\n",
    "# for i,x in enumerate(y):\n",
    "#     if x==True:\n",
    "#         z[i] = i\n",
    "# [i for i,x in enumerate(Fint_list) if fnmatch.fnmatchcase(astr_table.colnames, 'Fint[0-9]*')]\n",
    "# for i,x in enumerate(Fint_list):\n",
    "    \n",
    "# print(astr_table['Fint076'])"
   ]
  },
  {
   "cell_type": "code",
   "execution_count": 13,
   "metadata": {},
   "outputs": [
    {
     "name": "stdout",
     "output_type": "stream",
     "text": [
      "(307455, 20)\n"
     ]
    }
   ],
   "source": [
    "import numpy as np\n",
    "\n",
    "sources = astr_table['GLEAM']\n",
    "freqList = [x[4:] for x in fnmatch.filter(astr_table.colnames,'Fint[0-9]*')]\n",
    "Fints = np.zeros((len(sources),len(freqList)))\n",
    "y = [f'Fint{x}' for x in freqList]\n",
    "for i,x in enumerate(y):\n",
    "    Fints[:,i] = astr_table[x]\n",
    "\n",
    "print(Fints.shape)"
   ]
  },
  {
   "cell_type": "code",
   "execution_count": null,
   "metadata": {},
   "outputs": [
    {
     "ename": "",
     "evalue": "",
     "output_type": "error",
     "traceback": [
      "\u001b[1;31mRunning cells with '/usr/bin/python3' requires the ipykernel package.\n",
      "\u001b[1;31mRun the following command to install 'ipykernel' into the Python environment. \n",
      "\u001b[1;31mCommand: '/usr/bin/python3 -m pip install ipykernel -U --user --force-reinstall'"
     ]
    }
   ],
   "source": [
    "x = np.array([5,3,17,35,98,1,2])\n",
    "y = np.array(['a','b','c','d','e','f','g'])"
   ]
  },
  {
   "cell_type": "code",
   "execution_count": null,
   "metadata": {},
   "outputs": [
    {
     "ename": "",
     "evalue": "",
     "output_type": "error",
     "traceback": [
      "\u001b[1;31mRunning cells with '/usr/bin/python3' requires the ipykernel package.\n",
      "\u001b[1;31mRun the following command to install 'ipykernel' into the Python environment. \n",
      "\u001b[1;31mCommand: '/usr/bin/python3 -m pip install ipykernel -U --user --force-reinstall'"
     ]
    }
   ],
   "source": [
    "print(y[x>12])\n",
    "print(x[x>12])\n"
   ]
  },
  {
   "cell_type": "code",
   "execution_count": 23,
   "metadata": {},
   "outputs": [
    {
     "data": {
      "text/plain": [
       "array(['c', 'd'], dtype='<U1')"
      ]
     },
     "execution_count": 23,
     "metadata": {},
     "output_type": "execute_result"
    }
   ],
   "source": [
    "y[np.logical_and(x<80,x>12)]"
   ]
  },
  {
   "cell_type": "code",
   "execution_count": 24,
   "metadata": {},
   "outputs": [
    {
     "data": {
      "text/plain": [
       "array(['c'], dtype='<U1')"
      ]
     },
     "execution_count": 24,
     "metadata": {},
     "output_type": "execute_result"
    }
   ],
   "source": [
    "y[x==17]"
   ]
  },
  {
   "cell_type": "code",
   "execution_count": 9,
   "metadata": {},
   "outputs": [],
   "source": [
    "from astropy.coordinates import SkyCoord  # High-level coordinates\n",
    "from astropy.coordinates import ICRS, Galactic, FK4, FK5  # Low-level frames\n",
    "from astropy.coordinates import Angle, Latitude, Longitude  # Angles\n",
    "import astropy.units as u"
   ]
  },
  {
   "cell_type": "code",
   "execution_count": 11,
   "metadata": {},
   "outputs": [],
   "source": [
    "ra = 357.914368\n",
    "dec = -89.687309\n",
    "a = SkyCoord(ra, dec, frame='icrs', unit=u.deg)\n",
    "# b = Longitude(ra,frame='icrs',unit=u.deg)"
   ]
  },
  {
   "cell_type": "code",
   "execution_count": 21,
   "metadata": {},
   "outputs": [],
   "source": [
    "b = Angle(astr_table['DEJ2000'], unit='deg')"
   ]
  },
  {
   "cell_type": "code",
   "execution_count": 23,
   "metadata": {},
   "outputs": [
    {
     "data": {
      "text/plain": [
       "hms_tuple(h=array([-5., -5., -5., ...,  1.,  1., -2.]), m=array([-58., -56., -56., ...,  13.,   5., -15.]), s=array([-44.95416, -51.1944 , -37.43232, ...,  59.31384,  51.59904,\n",
       "       -49.65456]))"
      ]
     },
     "execution_count": 23,
     "metadata": {},
     "output_type": "execute_result"
    }
   ],
   "source": [
    "b.hms"
   ]
  },
  {
   "cell_type": "code",
   "execution_count": null,
   "metadata": {},
   "outputs": [],
   "source": []
  }
 ],
 "metadata": {
  "kernelspec": {
   "display_name": "Python 3",
   "language": "python",
   "name": "python3"
  },
  "language_info": {
   "codemirror_mode": {
    "name": "ipython",
    "version": 3
   },
   "file_extension": ".py",
   "mimetype": "text/x-python",
   "name": "python",
   "nbconvert_exporter": "python",
   "pygments_lexer": "ipython3",
   "version": "3.7.4"
  }
 },
 "nbformat": 4,
 "nbformat_minor": 2
}
