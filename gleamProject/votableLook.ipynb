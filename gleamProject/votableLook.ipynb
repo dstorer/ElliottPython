{
 "cells": [
  {
   "cell_type": "code",
   "execution_count": 1,
   "metadata": {},
   "outputs": [
    {
     "name": "stdout",
     "output_type": "stream",
     "text": [
      "['GLEAM', 'RAJ2000', 'DEJ2000', 'Fintwide', 'e_Fintwide', 'Fint076', 'e_Fint076', 'Fint084', 'e_Fint084', 'Fint092', 'e_Fint092', 'Fint099', 'e_Fint099', 'Fint107', 'e_Fint107', 'Fint115', 'e_Fint115', 'Fint122', 'e_Fint122', 'Fint130', 'e_Fint130', 'Fint143', 'e_Fint143', 'Fint151', 'e_Fint151', 'Fint158', 'e_Fint158', 'Fint166', 'e_Fint166', 'Fint174', 'e_Fint174', 'Fint181', 'e_Fint181', 'Fint189', 'e_Fint189', 'Fint197', 'e_Fint197', 'Fint204', 'e_Fint204', 'Fint212', 'e_Fint212', 'Fint220', 'e_Fint220', 'Fint227', 'e_Fint227', 'alpha', 'e_alpha', 'chi2', 'Fintfit200', 'e_Fintfit200']\n"
     ]
    }
   ],
   "source": [
    "from astropy.io.votable import parse\n",
    "\n",
    "votable = parse('gleam.vot')\n",
    "table = list(votable.iter_tables())[0]\n",
    "astr_table = table.to_table()\n",
    "print(astr_table.colnames)"
   ]
  },
  {
   "cell_type": "code",
   "execution_count": 26,
   "metadata": {
    "scrolled": true
   },
   "outputs": [
    {
     "name": "stdout",
     "output_type": "stream",
     "text": [
      "    GLEAM     \n",
      "--------------\n",
      "J235139-894114\n",
      "J223320-891247\n",
      "J231335-890921\n",
      "J230111-884502\n",
      "J211508-884427\n",
      "J231822-884931\n",
      "J232736-882551\n",
      "J222321-881725\n",
      "J225942-880822\n",
      "J235711-880329\n",
      "           ...\n",
      "J165340+084130\n",
      "J164427+084313\n",
      "J215146+213011\n",
      "J170900+084235\n",
      "J145658+112250\n",
      "J213032+200054\n",
      "J211616+190343\n",
      "J030237+015253\n",
      "J075847+182949\n",
      "J102809+162753\n",
      "J133637-335724\n",
      "Length = 307455 rows\n"
     ]
    }
   ],
   "source": [
    "x = astr_table['GLEAM']\n",
    "print(x)"
   ]
  },
  {
   "cell_type": "code",
   "execution_count": null,
   "metadata": {},
   "outputs": [],
   "source": [
    "[astr_table['Fint076'], ... , ...]"
   ]
  },
  {
   "cell_type": "code",
   "execution_count": 14,
   "metadata": {},
   "outputs": [],
   "source": [
    "import fnmatch"
   ]
  },
  {
   "cell_type": "code",
   "execution_count": 22,
   "metadata": {},
   "outputs": [
    {
     "data": {
      "text/plain": [
       "['076',\n",
       " '084',\n",
       " '092',\n",
       " '099',\n",
       " '107',\n",
       " '115',\n",
       " '122',\n",
       " '130',\n",
       " '143',\n",
       " '151',\n",
       " '158',\n",
       " '166',\n",
       " '174',\n",
       " '181',\n",
       " '189',\n",
       " '197',\n",
       " '204',\n",
       " '212',\n",
       " '220',\n",
       " '227']"
      ]
     },
     "execution_count": 22,
     "metadata": {},
     "output_type": "execute_result"
    }
   ],
   "source": [
    "[x[4:] for x in fnmatch.filter(astr_table.colnames,'Fint[0-9]*')]"
   ]
  },
  {
   "cell_type": "code",
   "execution_count": null,
   "metadata": {},
   "outputs": [],
   "source": []
  }
 ],
 "metadata": {
  "kernelspec": {
   "display_name": "Python 3",
   "language": "python",
   "name": "python3"
  },
  "language_info": {
   "codemirror_mode": {
    "name": "ipython",
    "version": 3
   },
   "file_extension": ".py",
   "mimetype": "text/x-python",
   "name": "python",
   "nbconvert_exporter": "python",
   "pygments_lexer": "ipython3",
   "version": "3.7.4"
  }
 },
 "nbformat": 4,
 "nbformat_minor": 2
}
