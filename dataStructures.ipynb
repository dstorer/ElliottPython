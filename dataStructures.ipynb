{
 "cells": [
  {
   "cell_type": "markdown",
   "id": "048401e5",
   "metadata": {},
   "source": [
    "# Objects!!\n",
    "An object is just a collection of data (variables) and methods (functions) that act on those data. A class is a blueprint that defines what attributes and methods an object can have. "
   ]
  },
  {
   "cell_type": "markdown",
   "id": "843c3dce",
   "metadata": {},
   "source": [
    "## Example: simple class\n",
    "Here is a class called Person that contains a person's age (attribute) and has the ability to say hello (method)."
   ]
  },
  {
   "cell_type": "code",
   "execution_count": null,
   "id": "c96d9c41",
   "metadata": {},
   "outputs": [],
   "source": [
    "class Person:\n",
    "    \"This is a person class\"\n",
    "    age = 10\n",
    "\n",
    "    def greet(self):\n",
    "        print('Hello')"
   ]
  },
  {
   "cell_type": "markdown",
   "id": "45fb10bf",
   "metadata": {},
   "source": [
    "### Creating an object:\n",
    "(remember, an object is just an instance of a class)"
   ]
  },
  {
   "cell_type": "code",
   "execution_count": null,
   "id": "f8581fe4",
   "metadata": {},
   "outputs": [],
   "source": [
    "p = Person()"
   ]
  },
  {
   "cell_type": "markdown",
   "id": "74dd92ee",
   "metadata": {},
   "source": [
    "### Accessing attributes:"
   ]
  },
  {
   "cell_type": "code",
   "execution_count": null,
   "id": "aae416be",
   "metadata": {},
   "outputs": [],
   "source": [
    "print(p.age)"
   ]
  },
  {
   "cell_type": "markdown",
   "id": "daf96771",
   "metadata": {},
   "source": [
    "### Using methods:"
   ]
  },
  {
   "cell_type": "code",
   "execution_count": null,
   "id": "64d468fe",
   "metadata": {},
   "outputs": [],
   "source": [
    "p.greet()"
   ]
  },
  {
   "cell_type": "code",
   "execution_count": null,
   "id": "a5e84ef0",
   "metadata": {},
   "outputs": [],
   "source": [
    "p.greet"
   ]
  },
  {
   "cell_type": "markdown",
   "id": "49a9d731",
   "metadata": {},
   "source": [
    "### Accessing docs:"
   ]
  },
  {
   "cell_type": "code",
   "execution_count": null,
   "id": "7d7cc03a",
   "metadata": {},
   "outputs": [],
   "source": [
    "p.__doc__"
   ]
  },
  {
   "cell_type": "markdown",
   "id": "552dc0ae",
   "metadata": {},
   "source": [
    "## Constructors:"
   ]
  },
  {
   "cell_type": "code",
   "execution_count": null,
   "id": "b7b3e465",
   "metadata": {},
   "outputs": [],
   "source": [
    "class Person:\n",
    "    \"This is a person class\"\n",
    "    def __init__(self, age=10, name='Elliott'):\n",
    "        self.age = age\n",
    "        self.name = name\n",
    "\n",
    "    def greet(self):\n",
    "        print('Hello')"
   ]
  },
  {
   "cell_type": "code",
   "execution_count": null,
   "id": "dbc9b10a",
   "metadata": {},
   "outputs": [],
   "source": [
    "p = Person()\n",
    "print(p.name)"
   ]
  },
  {
   "cell_type": "code",
   "execution_count": null,
   "id": "b1ce59eb",
   "metadata": {},
   "outputs": [],
   "source": [
    "d = Person(name='Dara',age='26')\n",
    "print(d.name)"
   ]
  },
  {
   "cell_type": "code",
   "execution_count": null,
   "id": "9b549296",
   "metadata": {},
   "outputs": [],
   "source": [
    "p.surname = 'Chalcraft'\n",
    "print(p.__dict__)"
   ]
  },
  {
   "cell_type": "markdown",
   "id": "0f359074",
   "metadata": {},
   "source": [
    "# -------------------------------------------------------------------------------------------"
   ]
  },
  {
   "cell_type": "markdown",
   "id": "12a93d67",
   "metadata": {},
   "source": [
    "# Stacks"
   ]
  },
  {
   "cell_type": "markdown",
   "id": "3b4b3dd3",
   "metadata": {},
   "source": [
    "Features:\n",
    "\n",
    "- Stores aribtrary objects\n",
    "- LIFO: Last-in-first-out\n",
    "- Often implemented with lists\n",
    "- Standard functionality:\n",
    "  - push: inserts object\n",
    "  - pop: returns and removes most recently inserted object\n",
    "  - size: returns number of objects currently in stack\n",
    "  - isEmpty: Returns True if queue is empty, otherwise returns False\n",
    "- Can be fixed size or dynamic."
   ]
  },
  {
   "cell_type": "markdown",
   "id": "e96660ab",
   "metadata": {},
   "source": [
    "### Task 1:\n",
    "Make a class Stack() that has the push, pop, size, and isEmpty methods described above. Your stack should have a fixed size - if you call push when the stack is already full, it should raise an error."
   ]
  },
  {
   "cell_type": "code",
   "execution_count": null,
   "id": "f6165582",
   "metadata": {},
   "outputs": [],
   "source": [
    "class Stack:\n",
    "    "
   ]
  },
  {
   "cell_type": "markdown",
   "id": "87c1a6d6",
   "metadata": {},
   "source": [
    "### Homework task:\n",
    "Adjust your Stack() class to be dynamic size. Do not use built-in features like \"append\" - you should construct an array of fixed size, and think about the most efficient way to expand it as more objects are pushed."
   ]
  },
  {
   "cell_type": "markdown",
   "id": "7b8e6358",
   "metadata": {},
   "source": [
    "# Queues"
   ]
  },
  {
   "cell_type": "markdown",
   "id": "4e070260",
   "metadata": {},
   "source": [
    "Features:\n",
    "\n",
    "- Stores arbitrary objects\n",
    "- FIFO - First-in-first-out\n",
    "- Standard functionality:\n",
    "  - Enqueue: inserts object\n",
    "  - Dequeue: Returns and removes first inserted object\n",
    "  - size: Returns number of objects in queue\n",
    "  - isEmpty: Returns True if queue is empty, otherwise returns False\n",
    "- Should be dynamic in size"
   ]
  },
  {
   "cell_type": "code",
   "execution_count": null,
   "id": "b2d548e8",
   "metadata": {},
   "outputs": [],
   "source": [
    "from IPython.display import Image\n",
    "Image(filename='Files/queueDiagram.png',width=600)"
   ]
  },
  {
   "cell_type": "markdown",
   "id": "c711508f",
   "metadata": {},
   "source": [
    "### Homework Task\n",
    "Make a class Queue() that has the enqueue, dequeue, size, and isEmpty methods described above. Let your queue wrap as shown in the diagram above until it is full - then, expand the array and rearrange your objects to be in the correct order starting at the beginning."
   ]
  },
  {
   "cell_type": "code",
   "execution_count": null,
   "id": "63d88d70",
   "metadata": {},
   "outputs": [],
   "source": [
    "class Queue:\n",
    "    "
   ]
  },
  {
   "cell_type": "markdown",
   "id": "4f8b4ba2",
   "metadata": {},
   "source": [
    "# Dictionaries"
   ]
  },
  {
   "cell_type": "markdown",
   "id": "88780602",
   "metadata": {},
   "source": [
    "Features:\n",
    "- Stores arbitrary objects\n",
    "- Objects (values) are accessed by associated keys\n",
    "- All keys are distinct and unordered\n",
    "- Values are changeable"
   ]
  },
  {
   "cell_type": "code",
   "execution_count": null,
   "id": "eb37d70f",
   "metadata": {},
   "outputs": [],
   "source": [
    "dara = {\n",
    "    'Name': 'Dara',\n",
    "    'Age': 26,\n",
    "    'Siblings': ['Alex','Tim'],\n",
    "    'Pets': {'Dogs': ['Maisie','Phoebe'], 'Cats': None}\n",
    "}"
   ]
  },
  {
   "cell_type": "code",
   "execution_count": null,
   "id": "6fe21b7d",
   "metadata": {},
   "outputs": [],
   "source": [
    "print(dara.keys())\n",
    "print(dara['Name'])\n",
    "print(dara['Pets']['Dogs'])"
   ]
  },
  {
   "cell_type": "code",
   "execution_count": null,
   "id": "cc8c5b96",
   "metadata": {},
   "outputs": [],
   "source": [
    "dara['Profession'] = 'Graduate Student'\n",
    "print(dara.keys())"
   ]
  },
  {
   "cell_type": "code",
   "execution_count": null,
   "id": "39a28d63",
   "metadata": {},
   "outputs": [],
   "source": [
    "dara['Name'] = 'Dara Storer'\n",
    "print(dara['Name'])"
   ]
  },
  {
   "cell_type": "code",
   "execution_count": null,
   "id": "63763380",
   "metadata": {},
   "outputs": [],
   "source": []
  },
  {
   "cell_type": "markdown",
   "id": "6165f52c",
   "metadata": {},
   "source": [
    "# Sets"
   ]
  },
  {
   "cell_type": "markdown",
   "id": "61ba781f",
   "metadata": {},
   "source": [
    "Features:\n",
    "- Stores arbitrary objects\n",
    "- Values are distinct and unordered\n",
    "- Values are unchangeable"
   ]
  },
  {
   "cell_type": "code",
   "execution_count": null,
   "id": "f0cde5b0",
   "metadata": {},
   "outputs": [],
   "source": [
    "fruit = {'bananas','apples','strawberries'}"
   ]
  },
  {
   "cell_type": "code",
   "execution_count": null,
   "id": "5d5ab3ce",
   "metadata": {},
   "outputs": [],
   "source": [
    "print(fruit[0])"
   ]
  },
  {
   "cell_type": "code",
   "execution_count": null,
   "id": "016ee2c2",
   "metadata": {},
   "outputs": [],
   "source": [
    "if 'bananas' in fruit:\n",
    "    print('Yay, I love bananas')"
   ]
  },
  {
   "cell_type": "code",
   "execution_count": null,
   "id": "ac89a6c1",
   "metadata": {},
   "outputs": [],
   "source": [
    "fruit.add('kiwis')\n",
    "fruit.remove('apples')\n",
    "print(fruit)"
   ]
  },
  {
   "cell_type": "markdown",
   "id": "fe356b59",
   "metadata": {},
   "source": [
    "# -------------------------------------------------------------------------------------------"
   ]
  },
  {
   "cell_type": "markdown",
   "id": "464cfa45",
   "metadata": {},
   "source": [
    "# Example Problem"
   ]
  },
  {
   "cell_type": "markdown",
   "id": "ca41f91d",
   "metadata": {},
   "source": [
    "Build a class Circle( ) with the following parameters and methods:\n",
    "- Parameters:\n",
    "  - Radius\n",
    "  - Circumference\n",
    "  - Area\n",
    "  - History: A dictionary tracking all changes made to the size of the circle. The keys should be the time the change was made, and values are the new size. You can use any parameter you want to track the size, but it needs to be consistent for all entries to the history dictionary.\n",
    "- Methods:\n",
    " - calcRadius(self): calculates and returns the radius of the circle, and updates the radius parameter\n",
    " - calcCircumference(self): calculates and returns the circumference of the circle, and updates the circumference parameter\n",
    " - calcArea(self): calculates and returns the area of the circle, and updates the area parameter\n",
    " - expand(self, parameter, factor): Takes any parameter and multiplies it by factor. Updates that parameter, and appropriately scales any other parameters that are not None.\n",
    "\n",
    "All of your parameters should have the default value None. If any of your methods are called while all parameters are still None, they should raise an error. If any parameter is known, the methods should run.\n",
    "\n",
    "Here's an example of how to get the current time:"
   ]
  },
  {
   "cell_type": "code",
   "execution_count": null,
   "id": "f4c813cd",
   "metadata": {},
   "outputs": [],
   "source": [
    "from datetime import datetime\n",
    "now = datetime.now()\n",
    "current_time = now.strftime(\"%H:%M:%S\")\n",
    "print(current_time)"
   ]
  },
  {
   "cell_type": "code",
   "execution_count": null,
   "id": "bbeca4e8",
   "metadata": {},
   "outputs": [],
   "source": []
  }
 ],
 "metadata": {
  "kernelspec": {
   "display_name": "Python 3",
   "language": "python",
   "name": "python3"
  },
  "language_info": {
   "codemirror_mode": {
    "name": "ipython",
    "version": 3
   },
   "file_extension": ".py",
   "mimetype": "text/x-python",
   "name": "python",
   "nbconvert_exporter": "python",
   "pygments_lexer": "ipython3",
   "version": "3.8.10"
  }
 },
 "nbformat": 4,
 "nbformat_minor": 5
}
