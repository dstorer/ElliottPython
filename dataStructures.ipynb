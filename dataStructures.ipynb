{
 "cells": [
  {
   "cell_type": "markdown",
   "id": "b15b16c5",
   "metadata": {},
   "source": [
    "# Objects!!\n",
    "An object is just a collection of data (variables) and methods (functions) that act on those data. A class is a blueprint that defines what attributes and methods an object can have. "
   ]
  },
  {
   "cell_type": "markdown",
   "id": "4a5fc72d",
   "metadata": {},
   "source": [
    "## Example: simple class\n",
    "Here is a class called Person that contains a person's age (attribute) and has the ability to say hello (method)."
   ]
  },
  {
   "cell_type": "code",
   "execution_count": null,
   "id": "db05188b",
   "metadata": {},
   "outputs": [],
   "source": [
    "class Person:\n",
    "    \"This is a person class\"\n",
    "    age = 10\n",
    "\n",
    "    def greet(self):\n",
    "        print('Hello')"
   ]
  },
  {
   "cell_type": "markdown",
   "id": "82f25062",
   "metadata": {},
   "source": [
    "### Creating an object:\n",
    "(remember, an object is just an instance of a class)"
   ]
  },
  {
   "cell_type": "code",
   "execution_count": null,
   "id": "281996e6",
   "metadata": {},
   "outputs": [],
   "source": [
    "p = Person()"
   ]
  },
  {
   "cell_type": "markdown",
   "id": "27e705e1",
   "metadata": {},
   "source": [
    "### Accessing attributes:"
   ]
  },
  {
   "cell_type": "code",
   "execution_count": null,
   "id": "22205f67",
   "metadata": {},
   "outputs": [],
   "source": [
    "print(p.age)"
   ]
  },
  {
   "cell_type": "markdown",
   "id": "89d13a3c",
   "metadata": {},
   "source": [
    "### Using methods:"
   ]
  },
  {
   "cell_type": "code",
   "execution_count": null,
   "id": "eaf6031a",
   "metadata": {},
   "outputs": [],
   "source": [
    "p.greet()"
   ]
  },
  {
   "cell_type": "code",
   "execution_count": null,
   "id": "5d3cc14b",
   "metadata": {},
   "outputs": [],
   "source": [
    "p.greet"
   ]
  },
  {
   "cell_type": "markdown",
   "id": "c02964c0",
   "metadata": {},
   "source": [
    "### Accessing docs:"
   ]
  },
  {
   "cell_type": "code",
   "execution_count": null,
   "id": "92b1456a",
   "metadata": {},
   "outputs": [],
   "source": [
    "p.__doc__"
   ]
  },
  {
   "cell_type": "markdown",
   "id": "bd02b84e",
   "metadata": {},
   "source": [
    "## Constructors:"
   ]
  },
  {
   "cell_type": "code",
   "execution_count": null,
   "id": "854becff",
   "metadata": {},
   "outputs": [],
   "source": [
    "class Person:\n",
    "    \"This is a person class\"\n",
    "    def __init__(self, age=10, name='Elliott'):\n",
    "        self.age = age\n",
    "        self.name = name\n",
    "\n",
    "    def greet(self):\n",
    "        print('Hello')"
   ]
  },
  {
   "cell_type": "code",
   "execution_count": null,
   "id": "ea2579d9",
   "metadata": {},
   "outputs": [],
   "source": [
    "p = Person()\n",
    "print(p.name)"
   ]
  },
  {
   "cell_type": "code",
   "execution_count": null,
   "id": "c5b74923",
   "metadata": {},
   "outputs": [],
   "source": [
    "d = Person(name='Dara',age='26')\n",
    "print(d.name)"
   ]
  },
  {
   "cell_type": "code",
   "execution_count": null,
   "id": "3068d569",
   "metadata": {},
   "outputs": [],
   "source": [
    "p.surname = 'Chalcraft'\n",
    "print(p.__dict__)"
   ]
  },
  {
   "cell_type": "markdown",
   "id": "b487ebeb",
   "metadata": {},
   "source": [
    "# -------------------------------------------------------------------------------------------"
   ]
  },
  {
   "cell_type": "markdown",
   "id": "de845e69",
   "metadata": {},
   "source": [
    "# Stacks"
   ]
  },
  {
   "cell_type": "markdown",
   "id": "92b683fd",
   "metadata": {},
   "source": [
    "Features:\n",
    "\n",
    "- Stores aribtrary objects\n",
    "- LIFO: Last-in-first-out\n",
    "- Often implemented with lists\n",
    "- Standard functionality:\n",
    "  - push: inserts object\n",
    "  - pop: returns and removes most recently inserted object\n",
    "  - size: returns number of objects currently in stack\n",
    "  - isEmpty: Returns True if queue is empty, otherwise returns False\n",
    "- Can be fixed size or dynamic."
   ]
  },
  {
   "cell_type": "markdown",
   "id": "afbc01cd",
   "metadata": {},
   "source": [
    "### Task 1:\n",
    "Make a class Stack() that has the push, pop, size, and isEmpty methods described above. Your stack should have a fixed size - if you call push when the stack is already full, it should raise an error."
   ]
  },
  {
   "cell_type": "code",
   "execution_count": null,
   "id": "ea8e294a",
   "metadata": {},
   "outputs": [],
   "source": [
    "class Stack:\n",
    "    "
   ]
  },
  {
   "cell_type": "markdown",
   "id": "56d38389",
   "metadata": {},
   "source": [
    "### Homework task:\n",
    "Adjust your Stack() class to be dynamic size. Do not use built-in features like \"append\" - you should construct an array of fixed size, and think about the most efficient way to expand it as more objects are pushed."
   ]
  },
  {
   "cell_type": "markdown",
   "id": "a6a7185f",
   "metadata": {},
   "source": [
    "# Queues"
   ]
  },
  {
   "cell_type": "markdown",
   "id": "4a8a2ad8",
   "metadata": {},
   "source": [
    "Features:\n",
    "\n",
    "- Stores arbitrary objects\n",
    "- FIFO - First-in-first-out\n",
    "- Standard functionality:\n",
    "  - Enqueue: inserts object\n",
    "  - Dequeue: Returns and removes first inserted object\n",
    "  - size: Returns number of objects in queue\n",
    "  - isEmpty: Returns True if queue is empty, otherwise returns False\n",
    "- Should be dynamic in size"
   ]
  },
  {
   "cell_type": "code",
   "execution_count": null,
   "id": "5f30493f",
   "metadata": {},
   "outputs": [],
   "source": [
    "from IPython.display import Image\n",
    "Image(filename='queueDiagram.png',width=600)"
   ]
  },
  {
   "cell_type": "markdown",
   "id": "65026e5b",
   "metadata": {},
   "source": [
    "### Homework Task\n",
    "Make a class Queue() that has the enqueue, dequeue, size, and isEmpty methods described above. Let your queue wrap as shown in the diagram above until it is full - then, expand the array and rearrange your objects to be in the correct order starting at the beginning."
   ]
  },
  {
   "cell_type": "code",
   "execution_count": null,
   "id": "27e15b79",
   "metadata": {},
   "outputs": [],
   "source": [
    "class Queue:\n",
    "    "
   ]
  },
  {
   "cell_type": "markdown",
   "id": "90ae3ee4",
   "metadata": {},
   "source": [
    "# Dictionaries"
   ]
  },
  {
   "cell_type": "markdown",
   "id": "1432f524",
   "metadata": {},
   "source": [
    "Features:\n",
    "- Stores arbitrary objects\n",
    "- Objects (values) are accessed by associated keys\n",
    "- All keys are distinct and unordered\n",
    "- Values are changeable"
   ]
  },
  {
   "cell_type": "code",
   "execution_count": null,
   "id": "bf3d0982",
   "metadata": {},
   "outputs": [],
   "source": [
    "dara = {\n",
    "    'Name': 'Dara',\n",
    "    'Age': 26,\n",
    "    'Siblings': ['Alex','Tim'],\n",
    "    'Pets': {'Dogs': ['Maisie','Phoebe'], 'Cats': None}\n",
    "}"
   ]
  },
  {
   "cell_type": "code",
   "execution_count": null,
   "id": "d1e99744",
   "metadata": {},
   "outputs": [],
   "source": [
    "print(dara.keys())\n",
    "print(dara['Name'])\n",
    "print(dara['Pets']['Dogs'])"
   ]
  },
  {
   "cell_type": "code",
   "execution_count": null,
   "id": "eea69a01",
   "metadata": {},
   "outputs": [],
   "source": [
    "dara['Profession'] = 'Graduate Student'\n",
    "print(dara.keys())"
   ]
  },
  {
   "cell_type": "code",
   "execution_count": null,
   "id": "0d13c68e",
   "metadata": {},
   "outputs": [],
   "source": [
    "dara['Name'] = 'Dara Storer'\n",
    "print(dara['Name'])"
   ]
  },
  {
   "cell_type": "code",
   "execution_count": null,
   "id": "586cfeb8",
   "metadata": {},
   "outputs": [],
   "source": []
  },
  {
   "cell_type": "markdown",
   "id": "9353a24d",
   "metadata": {},
   "source": [
    "# Sets"
   ]
  },
  {
   "cell_type": "markdown",
   "id": "edd5e4d8",
   "metadata": {},
   "source": [
    "Features:\n",
    "- Stores arbitrary objects\n",
    "- Values are distinct and unordered\n",
    "- Values are unchangeable"
   ]
  },
  {
   "cell_type": "code",
   "execution_count": null,
   "id": "f19f5315",
   "metadata": {},
   "outputs": [],
   "source": [
    "fruit = {'bananas','apples','strawberries'}"
   ]
  },
  {
   "cell_type": "code",
   "execution_count": null,
   "id": "977e8905",
   "metadata": {},
   "outputs": [],
   "source": [
    "print(fruit[0])"
   ]
  },
  {
   "cell_type": "code",
   "execution_count": null,
   "id": "7e1433dc",
   "metadata": {},
   "outputs": [],
   "source": [
    "if 'bananas' in fruit:\n",
    "    print('Yay, I love bananas')"
   ]
  },
  {
   "cell_type": "code",
   "execution_count": null,
   "id": "cf678000",
   "metadata": {},
   "outputs": [],
   "source": [
    "fruit.add('kiwis')\n",
    "fruit.remove('apples')\n",
    "print(fruit)"
   ]
  },
  {
   "cell_type": "markdown",
   "id": "1ca04910",
   "metadata": {},
   "source": [
    "# -------------------------------------------------------------------------------------------"
   ]
  },
  {
   "cell_type": "markdown",
   "id": "3633787e",
   "metadata": {},
   "source": [
    "# Example Problem"
   ]
  },
  {
   "cell_type": "markdown",
   "id": "8430e547",
   "metadata": {},
   "source": [
    "Build a class Circle( ) with the following parameters and methods:\n",
    "- Parameters:\n",
    "  - Radius\n",
    "  - Circumference\n",
    "  - Area\n",
    "  - History: A dictionary tracking all changes made to the size of the circle. The keys should be the time the change was made, and values are the new size. You can use any parameter you want to track the size, but it needs to be consistent for all entries to the history dictionary.\n",
    "- Methods:\n",
    " - calcRadius(self): calculates and returns the radius of the circle, and updates the radius parameter\n",
    " - calcCircumference(self): calculates and returns the circumference of the circle, and updates the circumference parameter\n",
    " - calcArea(self): calculates and returns the area of the circle, and updates the area parameter\n",
    " - expand(self, parameter, factor): Takes any parameter and multiplies it by factor. Updates that parameter, and appropriately scales any other parameters that are not None.\n",
    "\n",
    "All of your parameters should have the default value None. If any of your methods are called while all parameters are still None, they should raise an error. If any parameter is known, the methods should run.\n",
    "\n",
    "Here's an example of how to get the current time:"
   ]
  },
  {
   "cell_type": "code",
   "execution_count": null,
   "id": "b3182e70",
   "metadata": {},
   "outputs": [],
   "source": [
    "from datetime import datetime\n",
    "now = datetime.now()\n",
    "current_time = now.strftime(\"%H:%M:%S\")\n",
    "print(current_time)"
   ]
  },
  {
   "cell_type": "code",
   "execution_count": null,
   "id": "4ea35e08",
   "metadata": {},
   "outputs": [],
   "source": []
  }
 ],
 "metadata": {
  "kernelspec": {
   "display_name": "Python 3",
   "language": "python",
   "name": "python3"
  },
  "language_info": {
   "codemirror_mode": {
    "name": "ipython",
    "version": 3
   },
   "file_extension": ".py",
   "mimetype": "text/x-python",
   "name": "python",
   "nbconvert_exporter": "python",
   "pygments_lexer": "ipython3",
   "version": "3.8.10"
  }
 },
 "nbformat": 4,
 "nbformat_minor": 5
}
