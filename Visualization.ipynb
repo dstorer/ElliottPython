{
 "cells": [
  {
   "cell_type": "code",
   "execution_count": 3,
   "id": "b2814fee",
   "metadata": {},
   "outputs": [],
   "source": [
    "from matplotlib import pyplot as plt\n",
    "from IPython import display\n",
    "import numpy as np\n",
    "import math\n",
    "import warnings\n",
    "import numpy as np\n",
    "from datetime import datetime"
   ]
  },
  {
   "cell_type": "markdown",
   "id": "7dcfa67e",
   "metadata": {},
   "source": [
    "# Example: Matplotlib basics"
   ]
  },
  {
   "cell_type": "code",
   "execution_count": 6,
   "id": "1c9869f1",
   "metadata": {},
   "outputs": [
    {
     "data": {
      "text/plain": [
       "<matplotlib.collections.PathCollection at 0x7fd8076efe50>"
      ]
     },
     "execution_count": 6,
     "metadata": {},
     "output_type": "execute_result"
    },
    {
     "data": {
      "image/png": "[encoded data removed]",
      "text/plain": [
       "<Figure size 432x288 with 1 Axes>"
      ]
     },
     "metadata": {
      "needs_background": "light"
     },
     "output_type": "display_data"
    }
   ],
   "source": [
    "fig = plt.figure()\n",
    "x = np.linspace(0,100,20)\n",
    "y = x**2\n",
    "plt.plot(x,y,color='red')\n",
    "plt.scatter(x,y,color='blue')\n",
    "# plt.xlim(20,40)\n",
    "# plt.ylim(2000,6000)"
   ]
  },
  {
   "cell_type": "markdown",
   "id": "18f31a89",
   "metadata": {},
   "source": [
    "# Example: updating a plot in place"
   ]
  },
  {
   "cell_type": "code",
   "execution_count": 7,
   "id": "e85b4458",
   "metadata": {},
   "outputs": [],
   "source": [
    "def updatePlot(obj=None):\n",
    "    fig = plt.figure()\n",
    "    ax = plt.gca()\n",
    "    hdisplay = display.display(\"\", display_id=True)\n",
    "    while obj != 'quit':\n",
    "        obj = input('Enter a number')\n",
    "        if obj == 'quit':\n",
    "            plt.close()\n",
    "            break\n",
    "        n = int(obj)\n",
    "        ax.scatter(n,n**2)\n",
    "        hdisplay.update(fig)"
   ]
  },
  {
   "cell_type": "code",
   "execution_count": 8,
   "id": "58714622",
   "metadata": {},
   "outputs": [
    {
     "data": {
      "image/png": "[encoded data removed]",
      "text/plain": [
       "<Figure size 432x288 with 1 Axes>"
      ]
     },
     "metadata": {},
     "output_type": "display_data"
    },
    {
     "name": "stdout",
     "output_type": "stream",
     "text": [
      "Enter a number2\n",
      "Enter a number5\n",
      "Enter a number1\n",
      "Enter a number3\n",
      "Enter a number4\n",
      "Enter a numberquit\n"
     ]
    }
   ],
   "source": [
    "updatePlot()"
   ]
  },
  {
   "cell_type": "markdown",
   "id": "fb792d0d",
   "metadata": {},
   "source": [
    "# Example: kwargs"
   ]
  },
  {
   "cell_type": "code",
   "execution_count": 9,
   "id": "76d3ef34",
   "metadata": {},
   "outputs": [],
   "source": [
    "def plotRectangle(**kwargs):\n",
    "    fig = plt.figure()\n",
    "    ax = fig.gca()\n",
    "    sq = plt.Rectangle((0,0), 2,2,**kwargs)\n",
    "    ax.add_patch(sq)\n",
    "    ax.set_xlim(-1,3)\n",
    "    ax.set_ylim(-1,3)"
   ]
  },
  {
   "cell_type": "code",
   "execution_count": 14,
   "id": "34805361",
   "metadata": {},
   "outputs": [
    {
     "data": {
      "image/png": "[encoded data removed]",
      "text/plain": [
       "<Figure size 432x288 with 1 Axes>"
      ]
     },
     "metadata": {
      "needs_background": "light"
     },
     "output_type": "display_data"
    }
   ],
   "source": [
    "plotRectangle(facecolor='purple', edgecolor='green', linewidth=10, alpha=0.5)"
   ]
  },
  {
   "cell_type": "markdown",
   "id": "33d74503",
   "metadata": {},
   "source": [
    "# Task: Visualize Circle class\n",
    "\n",
    "Fill out the plotCircle() method and fill out the init function to allow visualization of your circle class. You should be able to plot multiple circles on the same figure, and update the plot as you update your circle's parameters."
   ]
  },
  {
   "cell_type": "code",
   "execution_count": 16,
   "id": "5a7681ea",
   "metadata": {},
   "outputs": [],
   "source": [
    "def getTime():\n",
    "    now = datetime.now()\n",
    "    current_time = now.strftime(\"%H:%M:%S:%f\")\n",
    "    return current_time\n",
    "\n",
    "class Circle():\n",
    "    \"\"\"\n",
    "    Function to create and edit a circle while calculating parameters and keeping track of previous changes to the circle.\n",
    "    \n",
    "    Parameters:\n",
    "    ----------\n",
    "    radius: Float\n",
    "        Radius of the circle. Default is None.\n",
    "    circum: Float\n",
    "        Circumference of the circle. Default is None.\n",
    "    area: Float\n",
    "        Area of the circle. Default is None.\n",
    "    history: Dict\n",
    "        Dictionary tracking all chnages made to the size of the circle. Keys are the time the change was made and values are the new size (radius, circumference, area). Default is None.\n",
    "    disp: Boolean\n",
    "        Choose whether or not to display the circle. Default is False.\n",
    "        \n",
    "    Returns:\n",
    "    ----------\n",
    "    calcCircle: Float\n",
    "        Calculates and returns the radius, circumference, and area. Updates all three parameters.\n",
    "    calcRadius: Float\n",
    "        Calculates and returns the radius of the circle, and updates the radius parameter.\n",
    "    calcCircum: Float\n",
    "        Calculates and returns the circumference of the circle, and updates the circumference parameter.\n",
    "    calcArea: Float\n",
    "        Calculates and returns the area of the circle, and updates the area parameter.\n",
    "    \"\"\"\n",
    "    def __init__(self, radius = None, circum = None, area = None, history = {},disp=False,ax=None,\n",
    "                 fig=None,hdisplay=None,pos=(0,0),**kwargs):\n",
    "        self.radius = radius\n",
    "        self.circum = circum\n",
    "        self.area = area\n",
    "        self.history = history\n",
    "        self.checkParams()\n",
    "        self.calcCircle()\n",
    "        self.circle = None\n",
    "        \n",
    "        ####### New params for visualization #######\n",
    "        # Assign new inputs to self\n",
    "        self.disp = disp\n",
    "        self.pos = pos\n",
    "        self.kwargs = kwargs\n",
    "        if disp is True:\n",
    "            if fig==None and ax==None and hdisplay==None:\n",
    "                # Initialize new figure\n",
    "                fig = plt.figure()\n",
    "                ax = plt.gca()\n",
    "                hdisplay = display.display(\"\", display_id=True)\n",
    "                ax.set_xlim(self.pos[0]-1.5*self.radius,self.pos[0]+1.5*self.radius)\n",
    "                ax.set_ylim(self.pos[1]-1.5*self.radius,self.pos[1]+1.5*self.radius)\n",
    "                plt.close()\n",
    "            elif fig==None or ax==None or hdisplay==None:\n",
    "                #Raise an error here\n",
    "                raise TypeError('Must pass in all fig, ax, hdisplay or none.')\n",
    "            self.ax = ax\n",
    "            self.fig = fig\n",
    "            self.hdisplay = hdisplay\n",
    "            self.plotCircle()\n",
    "            # Assign figure modifiers to self and call plotCircle\n",
    "\n",
    "    def calcCircle(self):\n",
    "        if self.radius != None:\n",
    "            self.circum = 2*math.pi*self.radius\n",
    "            self.area = math.pi*(self.radius**2)\n",
    "        elif self.circum != None:\n",
    "            self.radius = self.circum/(2*math.pi)\n",
    "            self.area = math.pi*(self.radius**2)\n",
    "        elif self.area != None:\n",
    "            self.radius = math.sqrt(self.area/math.pi)\n",
    "            self.circum = 2*math.pi*self.radius\n",
    "        else:\n",
    "            raise TypeError('All of the parameters are None.')\n",
    "    def checkParams(self):\n",
    "        params = np.asarray([self.radius, self.circum, self.area])\n",
    "        params[params == None] = 0\n",
    "#         print(params)\n",
    "        numSet = sum(x != 0 for x in params)  \n",
    "        if numSet > 1:\n",
    "            if params[1] != params[0]*2*math.pi and params[0] != 0 and params[1] != 0:\n",
    "                warnings.warn('The radius and circumference conflict. Calculating the parameters based on the the radius.')\n",
    "            if params[2] != params[0]**2*math.pi and params[0] != 0 and params[2] != 0:\n",
    "                warnings.warn('The radius and area conflict. Calculating the parameters based on the radius.')\n",
    "            if params[1] != 0 and params[2] != 0 and params[0] == 0:\n",
    "                radTemp = params[1]/(2*math.pi)\n",
    "                areaTemp = radTemp**2*math.pi\n",
    "                if params[2] != areaTemp:\n",
    "                    warnings.warn('The circumference and area conflict. Calculating the paramters based on the circumference.')\n",
    "    def calcRadius(self):\n",
    "        self.calcCircle()\n",
    "        return self.radius\n",
    "    def calcCircum(self):\n",
    "        self.calcCircle()\n",
    "        return self.circum\n",
    "    def calcArea(self):\n",
    "        self.calcCircle()\n",
    "        return self.area\n",
    "    \n",
    "    def expand(self, parameter, factor):\n",
    "        try:\n",
    "            factor = float(factor)\n",
    "        except:\n",
    "            raise TypeError('Enter a number for the factor.')\n",
    "        if factor < 0:\n",
    "            factor *= -1\n",
    "            warnings.warn(f'The entered factor was negative. Calculating based on the additive inverse, {factor}.')\n",
    "        if parameter == \"r\" or parameter == \"c\" or parameter == \"a\":\n",
    "            if parameter == \"r\":\n",
    "                self.radius *= factor\n",
    "                self.circum = None\n",
    "                self.area = None\n",
    "            elif parameter == \"c\":\n",
    "                self.radius = None\n",
    "                self.circum *= factor\n",
    "                self.area = None\n",
    "            elif parameter == \"a\":\n",
    "                self.radius = None\n",
    "                self.circum = None\n",
    "                self.area *= factor\n",
    "            self.calcCircle()\n",
    "            self.history[getTime()] = [self.radius, self.circum, self.area]\n",
    "        else:\n",
    "            raise TypeError('Enter radius (r), circumference (c), or area (a) for the parameter to expand.')\n",
    "        if self.disp is True:\n",
    "            self.plotCircle()\n",
    "    \n",
    "    def plotCircle(self):\n",
    "        if self.circle != None:\n",
    "            self.circle.remove()\n",
    "        self.circle = plt.Circle(self.pos, self.radius, **self.kwargs)\n",
    "        self.ax.add_patch(self.circle)\n",
    "        print(self.circle.figure)\n",
    "        xlim = np.asarray(self.ax.get_xlim())\n",
    "        ylim = np.asarray(self.ax.get_ylim())\n",
    "#         print(xlim[1])\n",
    "#         print(self.pos[0])\n",
    "#         print(abs(xlim[1] - self.pos[0]))\n",
    "#         print(self.radius)\n",
    "        if xlim[0] >= self.pos[0]-1.5*self.radius:\n",
    "            xlim[0] = self.pos[0]-1.5*self.radius\n",
    "        if xlim[1] <= self.pos[0]+1.5*self.radius:\n",
    "            xlim[1] = self.pos[0]+1.5*self.radius\n",
    "        self.ax.set_xlim(xlim)\n",
    "        if ylim[0] >= self.pos[1]-1.5*self.radius:\n",
    "            ylim[0] = self.pos[1]-1.5*self.radius\n",
    "        if ylim[1] <= self.pos[1]+1.5*self.radius:\n",
    "            ylim[1] = self.pos[1]+1.5*self.radius\n",
    "        self.ax.set_ylim(ylim)\n",
    "#         if abs(xlim[0] - self.pos[0]) <= self.radius:\n",
    "#             xlim[0] = self.pos[0]-1.5*self.radius\n",
    "# #             print('1')\n",
    "#         if abs(xlim[1] - self.pos[0]) >= self.radius:\n",
    "#             xlim[1] = self.pos[0]+1.5*self.radius\n",
    "# #             print('2')\n",
    "        \n",
    "#         if abs(ylim[0] - self.pos[1]) <= self.radius:\n",
    "#             ylim[0] = self.pos[1]-1.5*self.radius\n",
    "# #             print('3')\n",
    "#         if abs(ylim[1] - self.pos[1]) >= self.radius:\n",
    "#             ylim[1] = self.pos[1]+1.5*self.radius\n",
    "# #             print('4')\n",
    "        self.ax.set_aspect('equal')\n",
    "        self.hdisplay.update(self.fig)\n",
    "    "
   ]
  },
  {
   "cell_type": "code",
   "execution_count": 32,
   "id": "208b3cbc",
   "metadata": {
    "scrolled": true
   },
   "outputs": [
    {
     "data": {
      "image/png": "[encoded data removed]",
      "text/plain": [
       "<Figure size 432x288 with 1 Axes>"
      ]
     },
     "metadata": {},
     "output_type": "display_data"
    },
    {
     "name": "stdout",
     "output_type": "stream",
     "text": [
      "Figure(432x288)\n"
     ]
    }
   ],
   "source": [
    "c = Circle(radius=1, disp=True, color='yellow',alpha=0.5)"
   ]
  },
  {
   "cell_type": "code",
   "execution_count": 29,
   "id": "a8ea0331",
   "metadata": {},
   "outputs": [
    {
     "name": "stdout",
     "output_type": "stream",
     "text": [
      "Figure(432x288)\n"
     ]
    }
   ],
   "source": [
    "c.expand('r',8)"
   ]
  },
  {
   "cell_type": "code",
   "execution_count": 33,
   "id": "aa2be604",
   "metadata": {},
   "outputs": [
    {
     "name": "stdout",
     "output_type": "stream",
     "text": [
      "Figure(432x288)\n"
     ]
    }
   ],
   "source": [
    "c2 = Circle(radius=4,fig=c.fig,ax=c.ax,hdisplay=c.hdisplay,disp=True,color='red',pos=(-8,-8),alpha=0.5)"
   ]
  },
  {
   "cell_type": "code",
   "execution_count": 31,
   "id": "77ae9679",
   "metadata": {},
   "outputs": [
    {
     "name": "stdout",
     "output_type": "stream",
     "text": [
      "Figure(432x288)\n"
     ]
    }
   ],
   "source": [
    "c2.expand('r',16)"
   ]
  },
  {
   "cell_type": "markdown",
   "id": "19892394",
   "metadata": {},
   "source": [
    "# Task: Visualize Binary Tree"
   ]
  },
  {
   "cell_type": "code",
   "execution_count": 60,
   "id": "f4d3d4bd",
   "metadata": {},
   "outputs": [],
   "source": [
    "import numpy as np\n",
    "\n",
    "class BinaryTree:\n",
    "    def __init__(self, root=None):\n",
    "        self.root = root\n",
    "    def findParent(self, x, foundParent=None):\n",
    "        if foundParent == None:\n",
    "            foundParent = self.root\n",
    "        if foundParent.hasRight() and x > foundParent.data:\n",
    "            return self.findParent(x, foundParent.rightChild)\n",
    "        if foundParent.hasLeft() and x < foundParent.data:\n",
    "            return self.findParent(x, foundParent.leftChild)\n",
    "        return foundParent\n",
    "    def newNode(self, x):\n",
    "        newParent = self.findParent(x)\n",
    "        if x > newParent.data:\n",
    "            return newParent.setRight(x)\n",
    "        if x < newParent.data:\n",
    "            return newParent.setLeft(x)\n",
    "    def setHeight(self, height):\n",
    "        self.height = height\n",
    "        \n",
    "\n",
    "class BinaryTreeNode:\n",
    "    def __init__(self, data=None, parent=None, leftChild=None, rightChild=None, disp=False,ax=None,\n",
    "                 fig=None,hdisplay=None,pos=(0,0),width=1000,**kwargs):\n",
    "        self.data = data\n",
    "        self.parent = parent\n",
    "        self.leftChild = leftChild\n",
    "        self.rightChild = rightChild\n",
    "        self.width = width\n",
    "        if self.parent == None:\n",
    "            self.depth = 0\n",
    "            self.tree = BinaryTree(root=self)\n",
    "            self.tree.setHeight(0)\n",
    "        else:\n",
    "            self.depth = parent.depth + 1\n",
    "            self.tree = parent.tree\n",
    "            if self.depth > self.tree.height:\n",
    "                self.tree.setHeight(self.depth)\n",
    "        \n",
    "        ####### New params for visualization #######\n",
    "        # Assign new inputs to self\n",
    "        self.disp = disp\n",
    "        self.pos = pos\n",
    "        self.kwargs = kwargs\n",
    "        if disp is True:\n",
    "            if fig==None and ax==None and hdisplay==None:\n",
    "                # Initialize new figure\n",
    "                fig = plt.figure(figsize=(16,10))\n",
    "                ax = plt.gca()\n",
    "                hdisplay = display.display(\"\", display_id=True)\n",
    "                plt.close()\n",
    "            elif fig==None or ax==None or hdisplay==None:\n",
    "                #Raise an error here\n",
    "                raise TypeError('Must pass in all fig, ax, hdisplay or none.')\n",
    "            self.ax = ax\n",
    "            self.fig = fig\n",
    "            self.hdisplay = hdisplay\n",
    "            self.plotTree()\n",
    "            # Assign figure modifiers to self and call plotCircle\n",
    "        \n",
    "    def setLeft(self, childData):\n",
    "        newpos = (self.pos[0]-self.width/(2**(self.depth+1)),self.pos[1]-10)\n",
    "        self.leftChild = BinaryTreeNode(data=childData, parent=self, pos=newpos, width=self.width, disp=self.disp,ax=self.ax,\n",
    "                 fig=self.fig,hdisplay=self.hdisplay)\n",
    "        return self.leftChild\n",
    "    def setRight(self,childData):\n",
    "        newpos = (self.pos[0]+self.width/(2**(self.depth+1)),self.pos[1]-10)\n",
    "        self.rightChild = BinaryTreeNode(data=childData, parent=self, pos=newpos, width=self.width, disp=self.disp,ax=self.ax,\n",
    "                 fig=self.fig,hdisplay=self.hdisplay)\n",
    "        return self.rightChild\n",
    "    def children(self):\n",
    "        childList = []\n",
    "        if self.hasLeft():\n",
    "            childList.append(self.leftChild)\n",
    "        if self.hasRight():\n",
    "            childList.append(self.rightChild)\n",
    "        return childList\n",
    "    def hasLeft(self):\n",
    "        if self.leftChild == None:\n",
    "            return False\n",
    "        else:\n",
    "            return True\n",
    "    def hasRight(self):\n",
    "        if self.rightChild == None:\n",
    "            return False\n",
    "        else:\n",
    "            return True\n",
    "    def isRoot(self):\n",
    "        if self.parent == None:\n",
    "            return True\n",
    "        else:\n",
    "            return False\n",
    "    def plotTree(self):\n",
    "        ###### Fill this in\n",
    "        self.ax.scatter(self.pos[0],self.pos[1],zorder=1,s=500)\n",
    "        self.ax.text(self.pos[0],self.pos[1],self.data,color='black',verticalalignment='center',horizontalalignment='center',fontsize=14)\n",
    "        if not self.isRoot():\n",
    "            self.ax.plot([self.parent.pos[0],self.pos[0]],[self.parent.pos[1],self.pos[1]],color='black',zorder=0)\n",
    "        self.ax.set_aspect('auto')\n",
    "        self.hdisplay.update(self.fig)\n",
    "\n",
    "def addNodes(tree):\n",
    "    data = None\n",
    "    while data != 'stop':\n",
    "        data = input('New node data: ')\n",
    "        if data=='stop':\n",
    "            break\n",
    "        tree.newNode(float(data))\n"
   ]
  },
  {
   "cell_type": "code",
   "execution_count": null,
   "id": "463df286",
   "metadata": {},
   "outputs": [
    {
     "data": {
      "image/png": "[encoded data removed]",
      "text/plain": [
       "<Figure size 1152x720 with 1 Axes>"
      ]
     },
     "metadata": {},
     "output_type": "display_data"
    },
    {
     "name": "stdout",
     "output_type": "stream",
     "text": [
      "New node data: 30\n",
      "New node data: 60\n",
      "New node data: 28\n",
      "New node data: 32\n",
      "New node data: 58\n",
      "New node data: 62\n",
      "New node data: 10\n",
      "New node data: 18\n",
      "New node data: 29\n",
      "New node data: 31\n",
      "New node data: 43\n",
      "New node data: 8\n",
      "New node data: 28.5\n",
      "New node data: 30\n",
      "New node data: 29.5\n",
      "New node data: 31.5\n",
      "New node data: 30.5\n",
      "New node data: 42\n",
      "New node data: 44\n",
      "New node data: 46\n",
      "New node data: 45.5\n",
      "New node data: 47\n",
      "New node data: 59\n",
      "New node data: 58.5\n",
      "New node data: 59.5\n",
      "New node data: 61\n",
      "New node data: 67\n",
      "New node data: 60.5\n",
      "New node data: 61.5\n",
      "New node data: 65\n",
      "New node data: 68\n",
      "New node data: 7\n",
      "New node data: 9\n",
      "New node data: 11\n"
     ]
    }
   ],
   "source": [
    "root = BinaryTreeNode(float(45), disp=True)\n",
    "tree = BinaryTree(root=root)\n",
    "addNodes(tree)"
   ]
  },
  {
   "cell_type": "markdown",
   "id": "9e2800b0",
   "metadata": {},
   "source": [
    "# Task: Color by Depth\n",
    "\n",
    "Add functionality to plotTree() that will color the nodes based on their depth."
   ]
  },
  {
   "cell_type": "markdown",
   "id": "7a1ad82c",
   "metadata": {},
   "source": [
    "# Task: Animate tree traversals\n",
    "\n",
    "Add functionality to your traversal methods, BinaryTreeNode and BinaryTree to support animating the traversals. This should mean that nodes are added to the tree plot as they are visited by the traversal code."
   ]
  },
  {
   "cell_type": "code",
   "execution_count": null,
   "id": "43ff14bd",
   "metadata": {},
   "outputs": [],
   "source": [
    "import time\n",
    "\n",
    "class Queue:\n",
    "    \"This is a queue\"\n",
    "    def __init__(self, size = 0, isEmpty = True):\n",
    "        self.size = size\n",
    "        self.isEmpty = isEmpty\n",
    "        self.data = [None]\n",
    "        self.head = 0\n",
    "        self.tail = 0\n",
    "    def enqueue(self, val):\n",
    "        if None not in self.data:\n",
    "            temp = self.data\n",
    "            self.data = [None] * (2 * len(self.data))\n",
    "            start = self.head\n",
    "            for i,_ in enumerate(temp):\n",
    "                self.data[i] = temp[start%len(temp)]\n",
    "                start += 1\n",
    "            self.head = 0\n",
    "            self.tail = len(temp)\n",
    "        elif self.tail > len(self.data)-1:\n",
    "            self.tail = 0\n",
    "        self.data[self.tail] = val\n",
    "        self.tail += 1\n",
    "        self.isEmpty = False\n",
    "        self.size += 1\n",
    "    def dequeue(self):\n",
    "        if not self.isEmpty:\n",
    "            oldHead = self.data[self.head]\n",
    "            self.data[self.head] = None\n",
    "            self.head = (self.head+1)%len(self.data)\n",
    "            if self.data[self.head] == None:\n",
    "                self.isEmpty = True\n",
    "            self.size -= 1\n",
    "            return oldHead\n",
    "        else:\n",
    "            raise Exception(\"There's no objects here to dequeue.\")\n",
    "\n",
    "def preOrder(node, orderedList=[], disp=False):\n",
    "    orderedList.append(node.data)\n",
    "    if disp:\n",
    "        node.ax = None\n",
    "        node.plotTree(colorBy='traverseInd',ind=len(orderedList)-1)\n",
    "    if node.hasLeft():\n",
    "        preOrder(node.leftChild, orderedList, disp=disp)\n",
    "    if node.hasRight():\n",
    "        preOrder(node.rightChild, orderedList, disp=disp)\n",
    "    return orderedList\n",
    "\n",
    "def postOrder(node,orderedList=[],disp=False):\n",
    "    if node.hasLeft():\n",
    "        postOrder(node.leftChild,orderedList,disp=disp)\n",
    "    if node.hasRight():\n",
    "        postOrder(node.rightChild,orderedList,disp=disp)\n",
    "    orderedList.append(node.data)\n",
    "    if disp:\n",
    "        node.plotTree(colorBy='traverseInd',ind=len(orderedList)-1)\n",
    "    return orderedList\n",
    "\n",
    "def inOrder(node,orderedList=[],disp=False):\n",
    "    if node.hasLeft():\n",
    "        inOrder(node.leftChild,orderedList,disp=disp)\n",
    "    orderedList.append(node.data)\n",
    "    if disp:\n",
    "        node.plotTree(colorBy='traverseInd',ind=len(orderedList)-1)\n",
    "    if node.hasRight():\n",
    "        inOrder(node.rightChild,orderedList,disp=disp)\n",
    "    return orderedList\n",
    "\n",
    "def bft(root):\n",
    "    orderedList = []\n",
    "    q = Queue()\n",
    "    q.enqueue(root)\n",
    "    while not q.isEmpty:\n",
    "        node = q.dequeue()\n",
    "        orderedList.append(node.data)\n",
    "        if node.hasLeft() or node.hasRight():\n",
    "            for x in node.children():\n",
    "                q.enqueue(x)\n",
    "    return orderedList"
   ]
  },
  {
   "cell_type": "code",
   "execution_count": null,
   "id": "a5fd18c6",
   "metadata": {},
   "outputs": [],
   "source": [
    "def addRight(node):\n",
    "    val = ?\n",
    "    right = node.setRight(val)\n",
    "    return right\n",
    "def addLeft(node):\n",
    "    val = ?\n",
    "    left = node.setLeft(val)\n",
    "    return left\n",
    "def populateCompleteTree(rootVal,nNodes):\n",
    "    root = BinaryTreeNode(rootVal)\n",
    "    tree = root.tree\n",
    "    #Write code to populate a binary complete tree with nNodes number of nodes.\n",
    "    return root, tree"
   ]
  },
  {
   "cell_type": "code",
   "execution_count": null,
   "id": "9b528700",
   "metadata": {},
   "outputs": [],
   "source": []
  }
 ],
 "metadata": {
  "kernelspec": {
   "display_name": "Python 3",
   "language": "python",
   "name": "python3"
  },
  "language_info": {
   "codemirror_mode": {
    "name": "ipython",
    "version": 3
   },
   "file_extension": ".py",
   "mimetype": "text/x-python",
   "name": "python",
   "nbconvert_exporter": "python",
   "pygments_lexer": "ipython3",
   "version": "3.8.10"
  }
 },
 "nbformat": 4,
 "nbformat_minor": 5
}
