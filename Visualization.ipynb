{
 "cells": [
  {
   "cell_type": "code",
   "execution_count": 3,
   "metadata": {},
   "outputs": [],
   "source": [
    "from matplotlib import pyplot as plt\n",
    "from IPython import display\n",
    "import numpy as np\n",
    "import math\n",
    "import warnings\n",
    "import numpy as np\n",
    "from datetime import datetime"
   ]
  },
  {
   "cell_type": "markdown",
   "metadata": {},
   "source": [
    "# Example: Matplotlib basics"
   ]
  },
  {
   "cell_type": "code",
   "execution_count": 6,
   "metadata": {},
   "outputs": [
    {
     "data": {
      "text/plain": [
       "<matplotlib.collections.PathCollection at 0x7fd8076efe50>"
      ]
     },
     "execution_count": 6,
     "metadata": {},
     "output_type": "execute_result"
    },
    {
     "data": {
      "image/png": "[encoded data removed]",
      "text/plain": [
       "<Figure size 432x288 with 1 Axes>"
      ]
     },
     "metadata": {
      "needs_background": "light"
     },
     "output_type": "display_data"
    }
   ],
   "source": [
    "fig = plt.figure()\n",
    "x = np.linspace(0,100,20)\n",
    "y = x**2\n",
    "plt.plot(x,y,color='red')\n",
    "plt.scatter(x,y,color='blue')\n",
    "# plt.xlim(20,40)\n",
    "# plt.ylim(2000,6000)"
   ]
  },
  {
   "cell_type": "markdown",
   "metadata": {},
   "source": [
    "# Example: updating a plot in place"
   ]
  },
  {
   "cell_type": "code",
   "execution_count": 7,
   "metadata": {},
   "outputs": [],
   "source": [
    "def updatePlot(obj=None):\n",
    "    fig = plt.figure()\n",
    "    ax = plt.gca()\n",
    "    hdisplay = display.display(\"\", display_id=True)\n",
    "    while obj != 'quit':\n",
    "        obj = input('Enter a number')\n",
    "        if obj == 'quit':\n",
    "            plt.close()\n",
    "            break\n",
    "        n = int(obj)\n",
    "        ax.scatter(n,n**2)\n",
    "        hdisplay.update(fig)"
   ]
  },
  {
   "cell_type": "code",
   "execution_count": 8,
   "metadata": {},
   "outputs": [
    {
     "data": {
      "image/png": "[encoded data removed]",
      "text/plain": [
       "<Figure size 432x288 with 1 Axes>"
      ]
     },
     "metadata": {},
     "output_type": "display_data"
    },
    {
     "name": "stdout",
     "output_type": "stream",
     "text": [
      "Enter a number2\n",
      "Enter a number5\n",
      "Enter a number1\n",
      "Enter a number3\n",
      "Enter a number4\n",
      "Enter a numberquit\n"
     ]
    }
   ],
   "source": [
    "updatePlot()"
   ]
  },
  {
   "cell_type": "markdown",
   "metadata": {},
   "source": [
    "# Example: kwargs"
   ]
  },
  {
   "cell_type": "code",
   "execution_count": 9,
   "metadata": {},
   "outputs": [],
   "source": [
    "def plotRectangle(**kwargs):\n",
    "    fig = plt.figure()\n",
    "    ax = fig.gca()\n",
    "    sq = plt.Rectangle((0,0), 2,2,**kwargs)\n",
    "    ax.add_patch(sq)\n",
    "    ax.set_xlim(-1,3)\n",
    "    ax.set_ylim(-1,3)"
   ]
  },
  {
   "cell_type": "code",
   "execution_count": 14,
   "metadata": {},
   "outputs": [
    {
     "data": {
      "image/png": "[encoded data removed]",
      "text/plain": [
       "<Figure size 432x288 with 1 Axes>"
      ]
     },
     "metadata": {
      "needs_background": "light"
     },
     "output_type": "display_data"
    }
   ],
   "source": [
    "plotRectangle(facecolor='purple', edgecolor='green', linewidth=10, alpha=0.5)"
   ]
  },
  {
   "cell_type": "markdown",
   "metadata": {},
   "source": [
    "# Task: Visualize Circle class\n",
    "\n",
    "Fill out the plotCircle() method and fill out the init function to allow visualization of your circle class. You should be able to plot multiple circles on the same figure, and update the plot as you update your circle's parameters."
   ]
  },
  {
   "cell_type": "code",
   "execution_count": 16,
   "metadata": {},
   "outputs": [],
   "source": [
    "def getTime():\n",
    "    now = datetime.now()\n",
    "    current_time = now.strftime(\"%H:%M:%S:%f\")\n",
    "    return current_time\n",
    "\n",
    "class Circle():\n",
    "    \"\"\"\n",
    "    Function to create and edit a circle while calculating parameters and keeping track of previous changes to the circle.\n",
    "    \n",
    "    Parameters:\n",
    "    ----------\n",
    "    radius: Float\n",
    "        Radius of the circle. Default is None.\n",
    "    circum: Float\n",
    "        Circumference of the circle. Default is None.\n",
    "    area: Float\n",
    "        Area of the circle. Default is None.\n",
    "    history: Dict\n",
    "        Dictionary tracking all chnages made to the size of the circle. Keys are the time the change was made and values are the new size (radius, circumference, area). Default is None.\n",
    "        \n",
    "    Returns:\n",
    "    ----------\n",
    "    calcCircle: Float\n",
    "        Calculates and returns the radius, circumference, and area. Updates all three parameters.\n",
    "    calcRadius: Float\n",
    "        Calculates and returns the radius of the circle, and updates the radius parameter.\n",
    "    calcCircum: Float\n",
    "        Calculates and returns the circumference of the circle, and updates the circumference parameter.\n",
    "    calcArea: Float\n",
    "        Calculates and returns the area of the circle, and updates the area parameter.\n",
    "    \"\"\"\n",
    "    def __init__(self, radius = None, circum = None, area = None, history = {},disp=False,ax=None,\n",
    "                 fig=None,hdisplay=None,pos=(0,0),**kwargs):\n",
    "        self.radius = radius\n",
    "        self.circum = circum\n",
    "        self.area = area\n",
    "        self.history = history\n",
    "        self.checkParams()\n",
    "        self.calcCircle()\n",
    "        self.circle = None\n",
    "        \n",
    "        ####### New params for visualization #######\n",
    "        # Assign new inputs to self\n",
    "        self.disp = disp\n",
    "        self.pos = pos\n",
    "        self.kwargs = kwargs\n",
    "        if disp is True:\n",
    "            if fig==None and ax==None and hdisplay==None:\n",
    "                # Initialize new figure\n",
    "                fig = plt.figure()\n",
    "                ax = plt.gca()\n",
    "                hdisplay = display.display(\"\", display_id=True)\n",
    "                ax.set_xlim(self.pos[0]-1.5*self.radius,self.pos[0]+1.5*self.radius)\n",
    "                ax.set_ylim(self.pos[1]-1.5*self.radius,self.pos[1]+1.5*self.radius)\n",
    "                plt.close()\n",
    "            elif fig==None or ax==None or hdisplay==None:\n",
    "                #Raise an error here\n",
    "                raise TypeError('Must pass in all fig, ax, hdisplay or none.')\n",
    "            self.ax = ax\n",
    "            self.fig = fig\n",
    "            self.hdisplay = hdisplay\n",
    "            self.plotCircle()\n",
    "            # Assign figure modifiers to self and call plotCircle\n",
    "\n",
    "    def calcCircle(self):\n",
    "        if self.radius != None:\n",
    "            self.circum = 2*math.pi*self.radius\n",
    "            self.area = math.pi*(self.radius**2)\n",
    "        elif self.circum != None:\n",
    "            self.radius = self.circum/(2*math.pi)\n",
    "            self.area = math.pi*(self.radius**2)\n",
    "        elif self.area != None:\n",
    "            self.radius = math.sqrt(self.area/math.pi)\n",
    "            self.circum = 2*math.pi*self.radius\n",
    "        else:\n",
    "            raise TypeError('All of the parameters are None.')\n",
    "    def checkParams(self):\n",
    "        params = np.asarray([self.radius, self.circum, self.area])\n",
    "        params[params == None] = 0\n",
    "#         print(params)\n",
    "        numSet = sum(x != 0 for x in params)  \n",
    "        if numSet > 1:\n",
    "            if params[1] != params[0]*2*math.pi and params[0] != 0 and params[1] != 0:\n",
    "                warnings.warn('The radius and circumference conflict. Calculating the parameters based on the the radius.')\n",
    "            if params[2] != params[0]**2*math.pi and params[0] != 0 and params[2] != 0:\n",
    "                warnings.warn('The radius and area conflict. Calculating the parameters based on the radius.')\n",
    "            if params[1] != 0 and params[2] != 0 and params[0] == 0:\n",
    "                radTemp = params[1]/(2*math.pi)\n",
    "                areaTemp = radTemp**2*math.pi\n",
    "                if params[2] != areaTemp:\n",
    "                    warnings.warn('The circumference and area conflict. Calculating the paramters based on the circumference.')\n",
    "    def calcRadius(self):\n",
    "        self.calcCircle()\n",
    "        return self.radius\n",
    "    def calcCircum(self):\n",
    "        self.calcCircle()\n",
    "        return self.circum\n",
    "    def calcArea(self):\n",
    "        self.calcCircle()\n",
    "        return self.area\n",
    "    \n",
    "    def expand(self, parameter, factor):\n",
    "        try:\n",
    "            factor = float(factor)\n",
    "        except:\n",
    "            raise TypeError('Enter a number for the factor.')\n",
    "        if factor < 0:\n",
    "            factor *= -1\n",
    "            warnings.warn(f'The entered factor was negative. Calculating based on the additive inverse, {factor}.')\n",
    "        if parameter == \"r\" or parameter == \"c\" or parameter == \"a\":\n",
    "            if parameter == \"r\":\n",
    "                self.radius *= factor\n",
    "                self.circum = None\n",
    "                self.area = None\n",
    "            elif parameter == \"c\":\n",
    "                self.radius = None\n",
    "                self.circum *= factor\n",
    "                self.area = None\n",
    "            elif parameter == \"a\":\n",
    "                self.radius = None\n",
    "                self.circum = None\n",
    "                self.area *= factor\n",
    "            self.calcCircle()\n",
    "            self.history[getTime()] = [self.radius, self.circum, self.area]\n",
    "        else:\n",
    "            raise TypeError('Enter radius (r), circumference (c), or area (a) for the parameter to expand.')\n",
    "        if self.disp is True:\n",
    "            self.plotCircle()\n",
    "    \n",
    "    def plotCircle(self):\n",
    "        if self.circle != None:\n",
    "            self.circle.remove()\n",
    "        self.circle = plt.Circle(self.pos, self.radius, **self.kwargs)\n",
    "        self.ax.add_patch(self.circle)\n",
    "        print(self.circle.figure)\n",
    "        xlim = np.asarray(self.ax.get_xlim())\n",
    "        ylim = np.asarray(self.ax.get_ylim())\n",
    "#         print(xlim[1])\n",
    "#         print(self.pos[0])\n",
    "#         print(abs(xlim[1] - self.pos[0]))\n",
    "#         print(self.radius)\n",
    "        if xlim[0] >= self.pos[0]-1.5*self.radius:\n",
    "            xlim[0] = self.pos[0]-1.5*self.radius\n",
    "        if xlim[1] <= self.pos[0]+1.5*self.radius:\n",
    "            xlim[1] = self.pos[0]+1.5*self.radius\n",
    "        self.ax.set_xlim(xlim)\n",
    "        if ylim[0] >= self.pos[1]-1.5*self.radius:\n",
    "            ylim[0] = self.pos[1]-1.5*self.radius\n",
    "        if ylim[1] <= self.pos[1]+1.5*self.radius:\n",
    "            ylim[1] = self.pos[1]+1.5*self.radius\n",
    "        self.ax.set_ylim(ylim)\n",
    "#         if abs(xlim[0] - self.pos[0]) <= self.radius:\n",
    "#             xlim[0] = self.pos[0]-1.5*self.radius\n",
    "# #             print('1')\n",
    "#         if abs(xlim[1] - self.pos[0]) >= self.radius:\n",
    "#             xlim[1] = self.pos[0]+1.5*self.radius\n",
    "# #             print('2')\n",
    "        \n",
    "#         if abs(ylim[0] - self.pos[1]) <= self.radius:\n",
    "#             ylim[0] = self.pos[1]-1.5*self.radius\n",
    "# #             print('3')\n",
    "#         if abs(ylim[1] - self.pos[1]) >= self.radius:\n",
    "#             ylim[1] = self.pos[1]+1.5*self.radius\n",
    "# #             print('4')\n",
    "        self.ax.set_aspect('equal')\n",
    "        self.hdisplay.update(self.fig)\n",
    "    "
   ]
  },
  {
   "cell_type": "code",
   "execution_count": 24,
   "metadata": {
    "scrolled": true
   },
   "outputs": [
    {
     "data": {
      "image/png": "[encoded data removed]",
      "text/plain": [
       "<Figure size 432x288 with 1 Axes>"
      ]
     },
     "metadata": {},
     "output_type": "display_data"
    },
    {
     "name": "stdout",
     "output_type": "stream",
     "text": [
      "Figure(432x288)\n"
     ]
    }
   ],
   "source": [
    "c = Circle(radius=1, disp=True, color='yellow',alpha=0.5)"
   ]
  },
  {
   "cell_type": "code",
   "execution_count": 25,
   "metadata": {},
   "outputs": [
    {
     "name": "stdout",
     "output_type": "stream",
     "text": [
      "Figure(432x288)\n"
     ]
    }
   ],
   "source": [
    "c.expand('r',8)"
   ]
  },
  {
   "cell_type": "code",
   "execution_count": 26,
   "metadata": {},
   "outputs": [
    {
     "name": "stdout",
     "output_type": "stream",
     "text": [
      "Figure(432x288)\n"
     ]
    }
   ],
   "source": [
    "c2 = Circle(radius=4,fig=c.fig,ax=c.ax,hdisplay=c.hdisplay,disp=True,color='red',pos=(-4,-4),alpha=0.5)"
   ]
  },
  {
   "cell_type": "code",
   "execution_count": 27,
   "metadata": {},
   "outputs": [
    {
     "name": "stdout",
     "output_type": "stream",
     "text": [
      "Figure(432x288)\n"
     ]
    }
   ],
   "source": [
    "c2.expand('r',0.5)"
   ]
  },
  {
   "cell_type": "markdown",
   "metadata": {},
   "source": [
    "# Task: Visualize Binary Tree"
   ]
  },
  {
   "cell_type": "code",
   "execution_count": null,
   "metadata": {},
   "outputs": [],
   "source": [
    "import numpy as np\n",
    "\n",
    "class BinaryTree:\n",
    "    def __init__(self, root=None):\n",
    "        self.root = root\n",
    "    def findParent(self, x, foundParent=None):\n",
    "        if foundParent == None:\n",
    "            foundParent = self.root\n",
    "        if foundParent.hasRight() and x > foundParent.data:\n",
    "            return self.findParent(x, foundParent.rightChild)\n",
    "        if foundParent.hasLeft() and x < foundParent.data:\n",
    "            return self.findParent(x, foundParent.leftChild)\n",
    "        return foundParent\n",
    "    def newNode(self, x):\n",
    "        newParent = self.findParent(x)\n",
    "        if x > newParent.data:\n",
    "            return newParent.setRight(x)\n",
    "        if x < newParent.data:\n",
    "            return newParent.setLeft(x)\n",
    "    def setHeight(self, height):\n",
    "        self.height = height\n",
    "        \n",
    "\n",
    "class BinaryTreeNode:\n",
    "    def __init__(self, data=None, parent=None, leftChild=None, rightChild=None):\n",
    "        self.data = data\n",
    "        self.parent = parent\n",
    "        self.leftChild = leftChild\n",
    "        self.rightChild = rightChild\n",
    "        if self.parent == None:\n",
    "            self.depth = 0\n",
    "            self.tree = BinaryTree(root=self)\n",
    "            self.tree.setHeight(0)\n",
    "        else:\n",
    "            self.depth = parent.depth + 1\n",
    "            self.tree = parent.tree\n",
    "            if self.depth > self.tree.height:\n",
    "                self.tree.setHeight(self.depth)\n",
    "        \n",
    "    def setLeft(self, childData):\n",
    "        self.leftChild = BinaryTreeNode(data=childData, parent=self)\n",
    "        return self.leftChild\n",
    "    def setRight(self,childData):\n",
    "        self.rightChild = BinaryTreeNode(data=childData, parent=self)\n",
    "        return self.rightChild\n",
    "    def children(self):\n",
    "        childList = []\n",
    "        if self.hasLeft():\n",
    "            childList.append(self.leftChild)\n",
    "        if self.hasRight():\n",
    "            childList.append(self.rightChild)\n",
    "        return childList\n",
    "    def hasLeft(self):\n",
    "        if self.leftChild == None:\n",
    "            return False\n",
    "        else:\n",
    "            return True\n",
    "    def hasRight(self):\n",
    "        if self.rightChild == None:\n",
    "            return False\n",
    "        else:\n",
    "            return True\n",
    "    def isRoot(self):\n",
    "        if self.parent == None:\n",
    "            return True\n",
    "        else:\n",
    "            return False\n",
    "    def plotTree(self):\n",
    "        ###### Fill this in\n"
   ]
  }
 ],
 "metadata": {
  "kernelspec": {
   "display_name": "Python 3",
   "language": "python",
   "name": "python3"
  },
  "language_info": {
   "codemirror_mode": {
    "name": "ipython",
    "version": 3
   },
   "file_extension": ".py",
   "mimetype": "text/x-python",
   "name": "python",
   "nbconvert_exporter": "python",
   "pygments_lexer": "ipython3",
   "version": "3.7.4"
  }
 },
 "nbformat": 4,
 "nbformat_minor": 5
}
